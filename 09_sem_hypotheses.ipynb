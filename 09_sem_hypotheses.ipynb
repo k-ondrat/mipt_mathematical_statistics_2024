{
 "cells": [
  {
   "cell_type": "code",
   "execution_count": 1,
   "id": "d8af42d7",
   "metadata": {},
   "outputs": [],
   "source": [
    "import numpy as np\n",
    "import random\n",
    "import scipy.stats as sps\n",
    "import pandas as pd\n",
    "\n",
    "import matplotlib.pyplot as plt\n",
    "import seaborn as sns\n",
    "sns.set(font_scale=1.8)"
   ]
  },
  {
   "cell_type": "code",
   "execution_count": 2,
   "id": "a33f628e",
   "metadata": {},
   "outputs": [],
   "source": [
    "# зафиксируем сид для воспроизводимости генерации\n",
    "SEED = 42\n",
    "np.random.seed(SEED)\n",
    "random.seed(SEED)"
   ]
  },
  {
   "cell_type": "markdown",
   "id": "b68a7039",
   "metadata": {},
   "source": [
    "# Проверка гипотез"
   ]
  },
  {
   "cell_type": "markdown",
   "id": "95148281",
   "metadata": {},
   "source": [
    "В данной задаче вам предлагается изучить основы работы с критериями при проверке различных гипотез."
   ]
  },
  {
   "cell_type": "markdown",
   "id": "c5872781",
   "metadata": {},
   "source": [
    "## Построение критерия\n",
    "\n",
    "Будем рассматривать выборку из нормального распределения $\\mathcal{N}(\\theta, 1)$. Необходимо провести проверку гипотезы равенства параметра распределения нулю с двусторонней альтернативой $\\mathsf{H}_0\\colon \\theta = 0$ vs. $\\mathsf{H}_1\\colon \\theta \\neq 0$.\n",
    "\n",
    "Как строить критерии в общем случае вы узнаете позже. А для начала попробуем построить критерий \"из здравого смысла\". На предыдущих лекциях вы учились строить доверительные интервалы для выборочного среднего, которое является асимптотически нормально оценкой матожидания случайной величины.\n",
    "\n",
    "В случае нормального распределения и известной $\\sigma = 1$ на лекции получали ТДИ с уровнем доверия $\\alpha_{int}$: $$\\left(\\overline{X} - \\frac{z_{\\frac{1+\\alpha_{int}}{2}}}{\\sqrt{n}}, \\overline{X} + \\frac{z_{\\frac{1+\\alpha_{int}}{2}}}{\\sqrt{n}}\\right)$$\n",
    "\n",
    "Здесь использован тот факт, что среднее $n$ случайных величин, полученных из $\\mathcal{N}(\\theta, 1)$, имеет нормальное распределение $\\mathcal{N}(\\theta, \\frac{1}{n})$."
   ]
  },
  {
   "cell_type": "markdown",
   "id": "6569666e",
   "metadata": {},
   "source": [
    "Зная этот факт, мы можем попробовать использовать следующий критерий для проверки гипотезы $\\mathsf{H}_0\\colon \\theta = 0$ vs. $\\mathsf{H}_1\\colon \\theta \\neq 0$:\n",
    "$$S=\\left\\{ 0 \\notin \\left(\\overline{X} - \\frac{z_{\\frac{1+\\alpha_{int}}{2}}}{\\sqrt{n}}, \\overline{X} + \\frac{z_{\\frac{1+\\alpha_{int}}{2}}}{\\sqrt{n}}\\right)\\right\\}$$\n",
    "\n",
    "Таким образом, при получении выборки $X$ проверка $\\mathsf{H}_0$ выглядит следующим образом:\n",
    "\n",
    "$$X \\in S  \\Leftrightarrow\t\\text{доверительный интервал НЕ покрывает 0} \\Leftrightarrow \\mathsf{H}_0 \\text{ отвергается}$$\n",
    "$$X \\notin S  \\Leftrightarrow\t\\text{доверительный интервал покрывает 0} \\Leftrightarrow \\mathsf{H}_0 \\text{ НЕ отвергается}$$\n",
    "\n",
    "Однако, для корректного использования данного критерия необходимо верно подобрать значение $\\alpha_{int}$.\n",
    "\n",
    "**Вопрос**: Какую величину мы ограничиваем при построении критерия? Какое $\\alpha_{int}$ нам нужно взять, чтобы проверить гипотезу на уровне значимости $\\alpha=0.05$?\n",
    "\n",
    "*Подсказка*: $\\alpha_{int}$ определяет вероятность лежать в доверительном интервале"
   ]
  },
  {
   "cell_type": "markdown",
   "id": "c29439fb",
   "metadata": {},
   "source": [
    "**Ответ**: \n",
    "\n",
    "При построении критерия мы ограничиваем $\\alpha$, то есть ошибку I рода . $\\alpha_{int}$ нужно взять равным 0.95"
   ]
  },
  {
   "cell_type": "markdown",
   "id": "a29b89d3",
   "metadata": {},
   "source": [
    "## Ошибки при проверке гипотез\n",
    "\n",
    "Рассмотрим следующую выборку из нормального распределения $\\mathcal{N}(0, 1)$. Проверьте, выполняется ли для нее придуманный нами критерий. "
   ]
  },
  {
   "cell_type": "code",
   "execution_count": 3,
   "id": "7a9d8c4f",
   "metadata": {},
   "outputs": [],
   "source": [
    "sample = [-0.82899501, -0.56018104,  0.74729361,  0.61037027, -0.02090159,\n",
    "          0.11732738,  1.2776649 , -0.59157139,  0.54709738, -0.20219265,\n",
    "          -0.2176812 ,  1.09877685,  0.82541635,  0.81350964,  1.30547881,\n",
    "          0.02100384,  0.68195297, -0.31026676,  0.32416635, -0.13014305,\n",
    "          0.09699596,  0.59515703, -0.81822068,  2.09238728, -1.00601738,\n",
    "          -1.21418861,  1.15811087,  0.79166269,  0.62411982,  0.62834551]"
   ]
  },
  {
   "cell_type": "code",
   "execution_count": 6,
   "id": "47856055",
   "metadata": {},
   "outputs": [
    {
     "data": {
      "text/plain": [
       "(0.008416605863894033, 0.5553486041361059)"
      ]
     },
     "execution_count": 6,
     "metadata": {},
     "output_type": "execute_result"
    }
   ],
   "source": [
    "n = 30 \n",
    "alpha = 0.05\n",
    "z = sps.norm.ppf(1 - alpha/2)\n",
    "\n",
    "# посчитайте оценки параметров по имеющейся выборке\n",
    "theta_hat = np.mean(sample)\n",
    "sigma_hat = np.std(sample)\n",
    "\n",
    "# постройте доверительный интервал и выведите его\n",
    "theta_hat - (z*sigma_hat)/np.sqrt(n), theta_hat + (z*sigma_hat)/np.sqrt(n)"
   ]
  },
  {
   "cell_type": "markdown",
   "id": "208392db",
   "metadata": {},
   "source": [
    "Отвергается ли гипотеза $\\mathsf{H}_0$ для данной выборки?\n",
    "\n",
    "**Ответ**: доверительный интервал не покрывает 0, значит $\\mathsf{H}_0$ отвергается.\n",
    "\n",
    "Почему это произошло и как называется такая ошибка?"
   ]
  },
  {
   "cell_type": "markdown",
   "id": "29429bca",
   "metadata": {},
   "source": [
    "**Ответ**:  Это ошибка I рода, так как мы отвергли верную гипотезу. Наша выборка из нормального распределения, но мы попали в 5% вероятности, что наши 30 значений не выглядят как нормальное распределение (ошибка I рода)"
   ]
  },
  {
   "cell_type": "markdown",
   "id": "80a8283e",
   "metadata": {},
   "source": [
    "Теперь рассмотрим выборку, сгенерированную из нормального распределения $\\mathcal{N}(0.5, 1)$. Так как $\\theta \\neq 0$ наш критерий не должен выполняться. Проверьте, дейстивительно ли это так."
   ]
  },
  {
   "cell_type": "code",
   "execution_count": 7,
   "id": "df7947d1",
   "metadata": {},
   "outputs": [],
   "source": [
    "sample = [ 0.12452627,  0.95075805,  0.77166076, -1.45365582, -0.49410224,\n",
    "          1.66660296, -0.93194618, -0.42985368,  0.27260541,  1.46066343,\n",
    "          -1.31198164,  0.20520295,  3.19213611,  0.55957285,  0.50613194, \n",
    "          0.05689217, -0.8558408 ,  0.12584525,  0.73918692, -0.05739113,\n",
    "          0.76803961,  0.32823556,  0.05156772, -0.0566054 ,  0.60217298,\n",
    "          2.21606323, -1.02851902, -0.56797192, -0.64263642,  0.95315636]"
   ]
  },
  {
   "cell_type": "code",
   "execution_count": 8,
   "id": "a2a3fe3c",
   "metadata": {},
   "outputs": [
    {
     "data": {
      "text/plain": [
       "(-0.10302365708950356, 0.6177247424228368)"
      ]
     },
     "execution_count": 8,
     "metadata": {},
     "output_type": "execute_result"
    }
   ],
   "source": [
    "n = 30 \n",
    "\n",
    "# посчитайте оценки параметров по имеющейся выборке\n",
    "theta_hat = np.mean(sample)\n",
    "sigma_hat = np.std(sample)\n",
    "\n",
    "# постройте доверительный интервал и выведите его\n",
    "theta_hat - (z*sigma_hat)/np.sqrt(n), theta_hat + (z*sigma_hat)/np.sqrt(n)"
   ]
  },
  {
   "cell_type": "markdown",
   "id": "82d9c79e",
   "metadata": {},
   "source": [
    "Отвергается ли гипотеза $\\mathsf{H}_0$ для данной выборки?\n",
    "\n",
    "**Ответ**: $\\text{доверительный интервал покрывает 0} \\Leftrightarrow \\mathsf{H}_0 \\text{ НЕ отвергается}$\n",
    "\n",
    "Почему так произошло и как называетcя такая ошибка?\n"
   ]
  },
  {
   "cell_type": "markdown",
   "id": "76ec760e",
   "metadata": {},
   "source": [
    "**Ответ**: Это ошибка II рода. То есть мы не отвергли неверную гипотезу. Из условия нам дано, что распределение $\\mathcal{N}(0.5, 1)$, но мы попали в ситуацию, что имено с этой выборкой мы не можем отвергнуть эту гипотезу."
   ]
  },
  {
   "cell_type": "markdown",
   "id": "a64abbc6",
   "metadata": {},
   "source": [
    "## Мощность критерия\n",
    "\n",
    "Теперь попробуем аналитически вывести мощность получившегося критерия. Для этого вспомним, что мощность является вероятностью выполнения критерия (т.е. $X \\in S$) в случае заведомой верности альтернативной гипотезы $\\mathsf{H}_1\\colon \\theta \\neq 0$.\n",
    "\n",
    "Для выборки из нормального распределения $\\mathcal{N}(\\theta, 1)$ посчитаем вероятность того, что $0$ не попадает в доверительный интервал $\\left(\\overline{X} - \\frac{z_{\\frac{1+\\alpha_{int}}{2}}}{\\sqrt{n}}, \\overline{X} + \\frac{z_{\\frac{1+\\alpha_{int}}{2}}}{\\sqrt{n}}\\right)$.\n",
    "\n",
    "$$P\\left( 0 \\notin \\left(\\overline{X} - \\frac{z_{\\frac{1+\\alpha_{int}}{2}}}{\\sqrt{n}}, \\overline{X} + \\frac{z_{\\frac{1+\\alpha_{int}}{2}}}{\\sqrt{n}}\\right)\\right) = P\\left( \\overline{X} \\notin \\left(- \\frac{z_{\\frac{1+\\alpha_{int}}{2}}}{\\sqrt{n}}, \\frac{z_{\\frac{1+\\alpha_{int}}{2}}}{\\sqrt{n}}\\right)\\right) = 1 - P\\left( \\overline{X} \\in \\left(- \\frac{z_{\\frac{1+\\alpha_{int}}{2}}}{\\sqrt{n}}, \\frac{z_{\\frac{1+\\alpha_{int}}{2}}}{\\sqrt{n}}\\right)\\right)$$\n",
    "\n",
    "Как уже упоминалось в задании выше, $\\overline{X}$ имеет распределение $\\mathcal{N}(\\theta, \\frac{1}{n})$. Зная этот факт, мы можем посчитать вероятность попасть в данный интервал с помощью функции распределения $F$ нормального распределения $\\mathcal{N}(\\theta, \\frac{1}{n})$. Введем также следующие обозначения: $\\alpha = 1-\\alpha_{int}$, $c=\\frac{z_{1-\\frac{\\alpha}{2}}}{\\sqrt{n}}$.\n",
    "\n",
    "$$P\\left( \\overline{X} \\leq - c\\right) = F(-c)$$\n",
    "$$P\\left( \\overline{X} \\leq c\\right) = F(c)$$\n",
    "$$P\\left( \\overline{X} \\in \\left(- c, c\\right)\\right) = F(c)-F(-c)$$\n",
    "\n",
    "И, следовательно, мощность нашего критерия принимает следующий вид: $$\\beta = 1 - F(с) +F(-с)$$\n",
    "\n",
    "где $F$ - функция распределения $\\overline{X}$."
   ]
  },
  {
   "cell_type": "markdown",
   "id": "b54726bc",
   "metadata": {},
   "source": [
    "Постройте график полученной мощности критерия для $\\theta \\in [-1, 1]$ при условии, что мы работаем с выборками из 30 элементов и уровнем значимости $0.05$."
   ]
  },
  {
   "cell_type": "code",
   "execution_count": 9,
   "id": "33cc25e8",
   "metadata": {},
   "outputs": [],
   "source": [
    "# Функция для вычисления мощности построенного критерия\n",
    "def get_power(theta, n, c):\n",
    "    \"\"\"\n",
    "    param theta: значение параметра\n",
    "    param n: количество элементов выборки\n",
    "    param с: критическое значение\n",
    "\n",
    "    return beta - мощность критерия\n",
    "    \"\"\"\n",
    "    c = np.abs(c)\n",
    "    \n",
    "    # Для подсчета значений функции распределения из beta вам понадобятся функции cdf и sf для распределений из scipy.stats\n",
    "    # ! Не забывайте, что параметр scale нормального распределения sps.norm принимает корень из дисперсии !\n",
    "    beta = 1 - sps.norm(loc = theta, scale = 1 / np.sqrt(n)).cdf(c) + sps.norm(loc = theta, scale = 1 / np.sqrt(n)).cdf(-c)\n",
    "    \n",
    "    return beta"
   ]
  },
  {
   "cell_type": "code",
   "execution_count": 11,
   "id": "acc085c9",
   "metadata": {},
   "outputs": [
    {
     "data": {
      "text/plain": [
       "[<matplotlib.lines.Line2D at 0x1703d0c7460>]"
      ]
     },
     "execution_count": 11,
     "metadata": {},
     "output_type": "execute_result"
    },
    {
     "data": {
      "image/png": "[encoded data removed]",
      "text/plain": [
       "<Figure size 432x288 with 1 Axes>"
      ]
     },
     "metadata": {},
     "output_type": "display_data"
    }
   ],
   "source": [
    "n = 30\n",
    "alpha = 0.05\n",
    "\n",
    "# Зададим сетку параметров theta\n",
    "grid = np.linspace(-1, 1, 200)\n",
    "\n",
    "c = sps.norm.ppf(1 - alpha / 2) / np.sqrt(n)\n",
    "powers = get_power(grid, n, c)\n",
    "plt.ylabel('beta (мощность)')\n",
    "plt.xlabel('theta')\n",
    "plt.plot(grid, powers)"
   ]
  },
  {
   "cell_type": "markdown",
   "id": "8527da80",
   "metadata": {},
   "source": [
    "Какой вывод можно сделать из графика? Как изменяется значение мощности при удалении от точки $\\theta = 0$?"
   ]
  },
  {
   "cell_type": "markdown",
   "id": "9650b412",
   "metadata": {},
   "source": [
    "**Ответ**: Мощность имеет минимум при theta = 0 и растёт с удалением от 0 в обе стороны (выходит затем на плато 1). То есть есть с удалением от 0 повышается вероятность принадлежности x к критерию S, то есть повышается вероятность отвержение $H_{0}$"
   ]
  },
  {
   "cell_type": "code",
   "execution_count": null,
   "id": "cb463400",
   "metadata": {},
   "outputs": [],
   "source": []
  }
 ],
 "metadata": {
  "kernelspec": {
   "display_name": "Python 3 (ipykernel)",
   "language": "python",
   "name": "python3"
  },
  "language_info": {
   "codemirror_mode": {
    "name": "ipython",
    "version": 3
   },
   "file_extension": ".py",
   "mimetype": "text/x-python",
   "name": "python",
   "nbconvert_exporter": "python",
   "pygments_lexer": "ipython3",
   "version": "3.12.7"
  }
 },
 "nbformat": 4,
 "nbformat_minor": 5
}
