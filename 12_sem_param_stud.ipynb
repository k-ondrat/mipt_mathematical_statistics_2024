{
 "cells": [
  {
   "cell_type": "markdown",
   "metadata": {},
   "source": [
    "# <a href=\"https://thetahat.ru/courses/bm-2024-aut\">Cтатистика ФБМФ </a>"
   ]
  },
  {
   "cell_type": "markdown",
   "metadata": {},
   "source": [
    "## Семинар 12 (Часть 1)"
   ]
  },
  {
   "cell_type": "code",
   "execution_count": 1,
   "metadata": {},
   "outputs": [],
   "source": [
    "# Bot check\n",
    "\n",
    "# HW_ID: st_sem12\n",
    "# Бот проверит этот ID и предупредит, если случайно сдать что-то не то.\n",
    "\n",
    "# Status: final\n",
    "# Перед отправкой в финальном решении удали \"not\" в строчке выше.\n",
    "# Так бот проверит, что ты отправляешь финальную версию, а не промежуточную.\n",
    "# Никакие значения в этой ячейке не влияют на факт сдачи работы."
   ]
  },
  {
   "cell_type": "code",
   "execution_count": 70,
   "metadata": {
    "id": "gduLLylOysDS"
   },
   "outputs": [],
   "source": [
    "import numpy as np\n",
    "import pandas as pd\n",
    "import scipy.stats as sps\n",
    "from tqdm import tqdm\n",
    "import warnings\n",
    "warnings.filterwarnings(\"ignore\")\n",
    "\n",
    "import matplotlib.pyplot as plt\n",
    "import seaborn as sns\n",
    "sns.set_theme(style='darkgrid', font_scale=1.3, palette='Set2')\n",
    "\n",
    "%matplotlib inline"
   ]
  },
  {
   "cell_type": "markdown",
   "metadata": {},
   "source": [
    "## Критерии вида t-test\n",
    "\n",
    "### Одновыборочный\n",
    "\n",
    "Дана одна нормальная выборка $X_1, ..., X_n \\sim \\mathcal{N}(a, \\sigma^2)$.\n",
    "\n",
    "Критерий проверяет гипотезы\n",
    "\n",
    "$\\mathsf{H}_0\\colon a = a_0$\n",
    "\n",
    "$\\mathsf{H}_1\\colon a \\not= a_0$ \n",
    "\n",
    "<a href=\"https://docs.scipy.org/doc/scipy/reference/generated/scipy.stats.ttest_1samp.html#scipy.stats.ttest_1samp\">`ttest_1samp`</a>`(a, popmean): statistic, pvalue`\n",
    "\n",
    "* `a` &mdash; выборка\n",
    "* `popmean` &mdash; равно $a_0$"
   ]
  },
  {
   "cell_type": "markdown",
   "metadata": {},
   "source": [
    "Сгенерируйте выборку $X_1, ..., X_n \\sim \\mathcal{N}(0, 1)$ и с помощью критерия проверьте:\n",
    "- равенство среднего нулю \n",
    "- равенство среднего 0.5"
   ]
  },
  {
   "cell_type": "code",
   "execution_count": 11,
   "metadata": {},
   "outputs": [
    {
     "name": "stdout",
     "output_type": "stream",
     "text": [
      "равенство среднего нулю --  TtestResult(statistic=0.15804619690630275, pvalue=0.8747423211402996, df=99) \n",
      "равенство среднего 0.5 --  TtestResult(statistic=-4.3829783913415925, pvalue=2.918432021709544e-05, df=99)\n"
     ]
    }
   ],
   "source": [
    "size=100\n",
    "\n",
    "sample = sps.norm.rvs(loc = 0, scale = 1, size = size)\n",
    "result_0 = sps.ttest_1samp(a = sample, popmean = 0)\n",
    "result_05 = sps.ttest_1samp(a = sample, popmean = 0.5)\n",
    "\n",
    "print('равенство среднего нулю -- ', result_0, '\\nравенство среднего 0.5 -- ', result_05)"
   ]
  },
  {
   "cell_type": "markdown",
   "metadata": {},
   "source": [
    "1. $H_0$ не отвергается, p-value > 0.05\n",
    "2. $H_0$ отвергается  p-value < 0.05"
   ]
  },
  {
   "cell_type": "markdown",
   "metadata": {},
   "source": [
    "### Двухвыборочный\n",
    "\n",
    "#### Независимые выборки\n",
    "\n",
    "Даны две независимые нормальные выборки\n",
    "\n",
    "* $X_1, ..., X_n \\sim \\mathcal{N}(a_1, \\sigma_1^2)$,\n",
    "\n",
    "* $Y_1, ..., Y_m \\sim \\mathcal{N}(a_2, \\sigma_2^2)$.\n",
    "\n",
    "Критерий проверяет для их гипотезы о равенстве средних:\n",
    "\n",
    "$\\mathsf{H}_0\\colon a_1 = a_2$\n",
    "\n",
    "$\\mathsf{H}_1\\colon a_1 \\not= a_2$ \n",
    "\n",
    "<a href=\"https://docs.scipy.org/doc/scipy/reference/generated/scipy.stats.ttest_ind.html#scipy.stats.ttest_ind\">`ttest_ind`</a>`(a, b, equal_var=True): statistic, pvalue`\n",
    "\n",
    "`a`, `b` &mdash; выборка\n",
    "\n",
    "`equal_var` &mdash; известно ли равенство дисперсий"
   ]
  },
  {
   "cell_type": "markdown",
   "metadata": {},
   "source": [
    "Сгенерируйте выборки $X_1, ..., X_n \\sim \\mathcal{N}(0, 1)$ и $X_1, ..., X_m \\sim \\mathcal{N}(1, 1)$. Используя критерий, проверьте равенство средних двух выборок."
   ]
  },
  {
   "cell_type": "code",
   "execution_count": 13,
   "metadata": {},
   "outputs": [
    {
     "data": {
      "text/plain": [
       "TtestResult(statistic=-7.204189805114073, pvalue=1.1949943841057907e-11, df=198.0)"
      ]
     },
     "execution_count": 13,
     "metadata": {},
     "output_type": "execute_result"
    }
   ],
   "source": [
    "sample_1 = sps.norm(loc = 0, scale = 1).rvs(size = size)\n",
    "sample_2 = sps.norm(loc = 1, scale = 1).rvs(size = size)\n",
    "\n",
    "result = sps.ttest_ind(sample_1, sample_2, equal_var = True)\n",
    "result"
   ]
  },
  {
   "cell_type": "markdown",
   "metadata": {},
   "source": [
    "$H_0$ отвергается  p-value << 0.05, средние не равны"
   ]
  },
  {
   "cell_type": "markdown",
   "metadata": {},
   "source": [
    "Сгенерируйте выборки $X_1, ..., X_n \\sim \\mathcal{N}(0, 1)$ и $X_1, ..., X_m \\sim \\mathcal{N}(1, 7)$. Используя критерий, проверьте равенство средних двух выборок."
   ]
  },
  {
   "cell_type": "code",
   "execution_count": 15,
   "metadata": {},
   "outputs": [
    {
     "data": {
      "text/plain": [
       "TtestResult(statistic=-1.9393673249699113, pvalue=0.0552188144361812, df=102.0143000318687)"
      ]
     },
     "execution_count": 15,
     "metadata": {},
     "output_type": "execute_result"
    }
   ],
   "source": [
    "sample_1 = sps.norm(loc = 0, scale = 1).rvs(size = size)\n",
    "sample_2 = sps.norm(loc = 1, scale = 7).rvs(size = size)\n",
    "\n",
    "result = sps.ttest_ind(sample_1, sample_2, equal_var = False)\n",
    "result"
   ]
  },
  {
   "cell_type": "markdown",
   "metadata": {},
   "source": [
    "$H_0$ не отвергается, p-value > 0.05"
   ]
  },
  {
   "cell_type": "markdown",
   "metadata": {},
   "source": [
    "#### Связные выборки\n",
    "\n",
    "Даны две связные нормальные выборки\n",
    "\n",
    "* $X_1, ..., X_n \\sim \\mathcal{N}(a_1, \\sigma_1^2)$,\n",
    "\n",
    "* $Y_1, ..., Y_n \\sim \\mathcal{N}(a_2, \\sigma_2^2)$.\n",
    "\n",
    "\n",
    "Критерий проверяет для их гипотезы о равенстве среднего:\n",
    "\n",
    "$\\mathsf{H}_0\\colon a_1 = a_2$\n",
    "\n",
    "$\\mathsf{H}_1\\colon a_1 \\not= a_2$ \n",
    "\n",
    "<a href=\"https://docs.scipy.org/doc/scipy/reference/generated/scipy.stats.ttest_rel.html#scipy.stats.ttest_rel\">`ttest_rel`</a>`(a, b): statistic, pvalue`\n",
    "\n",
    "`a`, `b` &mdash; выборка"
   ]
  },
  {
   "cell_type": "markdown",
   "metadata": {},
   "source": [
    "Сгенерируйте выборку $X_1, ..., X_n \\sim \\mathcal{N}(0, 1)$. Вторую сгенерируйте по формуле выборка_1 + случайный шум, случайный шум из  $\\mathcal{N}(0, 0.5)$. Используя критерий, проверьте гипотезу о равенстве среднего."
   ]
  },
  {
   "cell_type": "code",
   "execution_count": 17,
   "metadata": {},
   "outputs": [
    {
     "data": {
      "text/plain": [
       "TtestResult(statistic=-0.49623755417940757, pvalue=0.620826798566992, df=99)"
      ]
     },
     "execution_count": 17,
     "metadata": {},
     "output_type": "execute_result"
    }
   ],
   "source": [
    "sample_1 = sps.norm(loc = 0, scale = 1).rvs(size = size)\n",
    "sample_2 = sample_1 + sps.norm(loc = 0, scale = 0.5).rvs(size = size)\n",
    "\n",
    "result = sps.ttest_rel(sample_1, sample_2)\n",
    "result"
   ]
  },
  {
   "cell_type": "markdown",
   "metadata": {},
   "source": [
    " $H_0$ не отвергается, p-value > 0.05"
   ]
  },
  {
   "cell_type": "markdown",
   "metadata": {},
   "source": [
    "Сгенерируйте выборку $X_1, ..., X_n \\sim \\mathcal{N}(0, 1)$. Вторую сгенерируйте по формуле выборка_1 + случайный шум, случайный шум из  $\\mathcal{N}(0.5, 0.5)$. Используя критерий, проверьте гипотезу о равенстве среднего."
   ]
  },
  {
   "cell_type": "code",
   "execution_count": 19,
   "metadata": {},
   "outputs": [
    {
     "data": {
      "text/plain": [
       "TtestResult(statistic=-11.846366857656966, pvalue=1.0938803061717271e-20, df=99)"
      ]
     },
     "execution_count": 19,
     "metadata": {},
     "output_type": "execute_result"
    }
   ],
   "source": [
    "sample_1 = sps.norm(loc = 0, scale = 1).rvs(size = size)\n",
    "sample_2 = sample_1 + sps.norm(loc = 0.5, scale = 0.5).rvs(size = size)\n",
    "\n",
    "result = sps.ttest_rel(sample_1, sample_2)\n",
    "result"
   ]
  },
  {
   "cell_type": "markdown",
   "metadata": {},
   "source": [
    "p-value << 0.05  $H_0$ отвергается, что соответствует нашей задаче."
   ]
  },
  {
   "cell_type": "markdown",
   "metadata": {},
   "source": [
    "### Пример: ирисы Фишера\n",
    "\n",
    "Визуализация данных"
   ]
  },
  {
   "cell_type": "code",
   "execution_count": 72,
   "metadata": {},
   "outputs": [],
   "source": [
    "df = sns.load_dataset(\"iris\")\n",
    "\n",
    "g = sns.PairGrid(df, hue='species')\n",
    "g.map_lower(sns.kdeplot, cmap =\"Blues_d\")\n",
    "g.map_upper(plt.scatter)\n",
    "g.map_diag(sns.kdeplot, lw=3);"
   ]
  },
  {
   "cell_type": "markdown",
   "metadata": {},
   "source": [
    "Я искренне и честно запускала больше десятка раз ячейку с визуализацией, но она не работает, я не знаю почему"
   ]
  },
  {
   "cell_type": "markdown",
   "metadata": {},
   "source": [
    "Как выглядят данные"
   ]
  },
  {
   "cell_type": "code",
   "execution_count": 40,
   "metadata": {},
   "outputs": [
    {
     "data": {
      "text/html": [
       "<div>\n",
       "<style scoped>\n",
       "    .dataframe tbody tr th:only-of-type {\n",
       "        vertical-align: middle;\n",
       "    }\n",
       "\n",
       "    .dataframe tbody tr th {\n",
       "        vertical-align: top;\n",
       "    }\n",
       "\n",
       "    .dataframe thead th {\n",
       "        text-align: right;\n",
       "    }\n",
       "</style>\n",
       "<table border=\"1\" class=\"dataframe\">\n",
       "  <thead>\n",
       "    <tr style=\"text-align: right;\">\n",
       "      <th></th>\n",
       "      <th>sepal_length</th>\n",
       "      <th>sepal_width</th>\n",
       "      <th>petal_length</th>\n",
       "      <th>petal_width</th>\n",
       "      <th>species</th>\n",
       "    </tr>\n",
       "  </thead>\n",
       "  <tbody>\n",
       "    <tr>\n",
       "      <th>0</th>\n",
       "      <td>5.1</td>\n",
       "      <td>3.5</td>\n",
       "      <td>1.4</td>\n",
       "      <td>0.2</td>\n",
       "      <td>setosa</td>\n",
       "    </tr>\n",
       "    <tr>\n",
       "      <th>1</th>\n",
       "      <td>4.9</td>\n",
       "      <td>3.0</td>\n",
       "      <td>1.4</td>\n",
       "      <td>0.2</td>\n",
       "      <td>setosa</td>\n",
       "    </tr>\n",
       "    <tr>\n",
       "      <th>2</th>\n",
       "      <td>4.7</td>\n",
       "      <td>3.2</td>\n",
       "      <td>1.3</td>\n",
       "      <td>0.2</td>\n",
       "      <td>setosa</td>\n",
       "    </tr>\n",
       "    <tr>\n",
       "      <th>3</th>\n",
       "      <td>4.6</td>\n",
       "      <td>3.1</td>\n",
       "      <td>1.5</td>\n",
       "      <td>0.2</td>\n",
       "      <td>setosa</td>\n",
       "    </tr>\n",
       "    <tr>\n",
       "      <th>4</th>\n",
       "      <td>5.0</td>\n",
       "      <td>3.6</td>\n",
       "      <td>1.4</td>\n",
       "      <td>0.2</td>\n",
       "      <td>setosa</td>\n",
       "    </tr>\n",
       "  </tbody>\n",
       "</table>\n",
       "</div>"
      ],
      "text/plain": [
       "   sepal_length  sepal_width  petal_length  petal_width species\n",
       "0           5.1          3.5           1.4          0.2  setosa\n",
       "1           4.9          3.0           1.4          0.2  setosa\n",
       "2           4.7          3.2           1.3          0.2  setosa\n",
       "3           4.6          3.1           1.5          0.2  setosa\n",
       "4           5.0          3.6           1.4          0.2  setosa"
      ]
     },
     "execution_count": 40,
     "metadata": {},
     "output_type": "execute_result"
    }
   ],
   "source": [
    "df.head()"
   ]
  },
  {
   "cell_type": "markdown",
   "metadata": {},
   "source": [
    "Виды ирисов"
   ]
  },
  {
   "cell_type": "code",
   "execution_count": 43,
   "metadata": {},
   "outputs": [
    {
     "data": {
      "text/plain": [
       "array(['setosa', 'versicolor', 'virginica'], dtype=object)"
      ]
     },
     "execution_count": 43,
     "metadata": {},
     "output_type": "execute_result"
    }
   ],
   "source": [
    "np.unique(df.species)"
   ]
  },
  {
   "cell_type": "code",
   "execution_count": 45,
   "metadata": {},
   "outputs": [
    {
     "data": {
      "text/plain": [
       "TtestResult(statistic=-10.52098626754911, pvalue=3.746742613983842e-17, df=86.53800179765497)"
      ]
     },
     "execution_count": 45,
     "metadata": {},
     "output_type": "execute_result"
    }
   ],
   "source": [
    "sps.ttest_ind(df[df.species == 'setosa'].sepal_length, \n",
    "              df[df.species == 'versicolor'].sepal_length,\n",
    "              equal_var=False)"
   ]
  },
  {
   "cell_type": "code",
   "execution_count": 47,
   "metadata": {},
   "outputs": [
    {
     "data": {
      "text/plain": [
       "TtestResult(statistic=5.629165259719801, pvalue=1.8661443873771216e-07, df=94.02548633776483)"
      ]
     },
     "execution_count": 47,
     "metadata": {},
     "output_type": "execute_result"
    }
   ],
   "source": [
    "sps.ttest_ind(df[df.species == 'virginica'].sepal_length, \n",
    "              df[df.species == 'versicolor'].sepal_length,\n",
    "              equal_var=False)"
   ]
  },
  {
   "cell_type": "code",
   "execution_count": 49,
   "metadata": {},
   "outputs": [
    {
     "data": {
      "text/plain": [
       "TtestResult(statistic=3.2057607502218186, pvalue=0.001819483482104968, df=97.92682669979344)"
      ]
     },
     "execution_count": 49,
     "metadata": {},
     "output_type": "execute_result"
    }
   ],
   "source": [
    "sps.ttest_ind(df[df.species == 'virginica'].sepal_width, \n",
    "              df[df.species == 'versicolor'].sepal_width,\n",
    "              equal_var=False)"
   ]
  },
  {
   "cell_type": "markdown",
   "metadata": {},
   "source": [
    "Нужна ли после этих тестов еще какая-нибудь процедура?\n",
    "\n",
    "\n",
    "**Ответ:**  неоходима поправка на множественное тестирование гипотез."
   ]
  },
  {
   "cell_type": "markdown",
   "metadata": {},
   "source": [
    "Не забудьте про выводы.\n",
    "\n",
    "\n",
    "**Вывод**\n",
    "* Одновыборочный. Для гипотезы $H_0: a_0 = 0$ значение p-value $> \\alpha = 0.05$, поэтому она не отвергается. А для проверки равенства среднего 0.5 значение p-value $< \\alpha = 0.05$, поэтому эта гипотеза отвергается. Для нашей выборки со средним 0 такой результат и ожидался.\n",
    "\n",
    "* Двухвыборочный. Для выборок с разным средним, но одинаковой дисперсией, значение p-value $<< \\alpha = 0.05$, гипотеза равенства средних двух выборок отвергается (распределены одинаково). Однако если брать выборки с сильно разными дисперсиями, то мы не можем сравнивать средние значения двух выборок с помощью предлагаемого критерия (t-test), поэтому значение p-value $> \\alpha = 0.05$, и гипотезу равенства средних мы не можем отвергать. Здесь нарушается условие применимости критерия.\n",
    "\n",
    "* Связные выборки. Видно (опять же по p-value), что добавление шума (а именно то, какому распределению он подчиняется) также влияет на то, можем ли мы отвергать гипотезу. Шум с тем же средним, что и исследуемая выборка, не позволяет отвергнуть гипотезу о равенстве средних. Однако шум даже с немного отличающимся средним уже позволяет отвергнуть гипотезу.\n",
    "\n",
    "* Ирисы Фишера. Тут мы сравниваем, насколько одинаковые чашелистики у разных видов. Мы рассматриваем их длину и ширину. По длине чашелистика виды setosa и versicolor, а также virginica и versicolor между собой не похожи, гипотеза отвергается, так как p-value $<< \\alpha = 0.05$. Ширина чашелистика видов virginica и versicolor также не одинаковые, так как p-value $< \\alpha = 0.05$."
   ]
  },
  {
   "cell_type": "markdown",
   "metadata": {
    "id": "GmSeryKAysDN"
   },
   "source": [
    "## AA-тесты: валидация критериев"
   ]
  },
  {
   "cell_type": "markdown",
   "metadata": {
    "id": "MUONOzByysDU"
   },
   "source": [
    "Напишем функцию, реализующую относительный t-test. Функция возвращает значение статистики, доверительный интервал, p-value.\n",
    "\n",
    "Для подсчёта статистики воспользуемся следующей формулой\n",
    "\n",
    "$$R = \\overline{X} / \\overline{Y} - 1$$\n",
    "\n",
    "где n &mdash; размер выборки.\n",
    "\n",
    "\n",
    "Для подсчёта `p-value` найдите вероятность того, что стандартно распределённая случайная величина имеет значение по модулю большее чем\n",
    "\n",
    "$$z = \\sqrt{n}\\frac{|R|}{\\sqrt{\\frac{\\overline{(X - \\overline{X})^2}}{\\overline{Y}^2} + \\frac{\\overline{(Y - \\overline{Y})^2}\\overline{X}^2}{\\overline{Y}^4}}}$$\n",
    "\n",
    "Вам понадобится функция `sps.norm.sf`, также Вам может помочь функция `np.var`.\n",
    "\n",
    "\n",
    "Посчитайте доверительный интервал. Для этого найдите\n",
    "\n",
    "$$q = \\Phi^{-1}(1-\\alpha/2)$$\n",
    "\n",
    "где $\\Phi$ &mdash; функция распределения стандартного нормального распределения (воспользуйтесь методом `sps.norm.ppf`), $\\alpha$ &mdash; уровень значимости. Затем от $R$ отложите\n",
    "\n",
    "$$\\frac{q \\cdot \\sigma_R}{\\sqrt{n}}$$\n",
    "\n",
    "где $\\sigma_R$ &mdash; знаменатель из формулы для расчёта $z$."
   ]
  },
  {
   "cell_type": "code",
   "execution_count": null,
   "metadata": {
    "id": "bYOi8FY6ysDU"
   },
   "outputs": [],
   "source": [
    "def relative_ttest(x, y, alpha=0.05):\n",
    "    '''\n",
    "    Относительный t-test.\n",
    "\n",
    "    Аргументы:\n",
    "    x, y -- выборки одинакового размера\n",
    "    alpha -- уровень значимости\n",
    "\n",
    "    Возвращает:\n",
    "    stat -- статистика критерия\n",
    "    pvalue\n",
    "    left_bound, right_bound -- границы дов. интервала\n",
    "    '''\n",
    "    n = <...>\n",
    "    x_mean = <...>\n",
    "    y_mean = <...>\n",
    "    \n",
    "    stat = <...>\n",
    "    std = <...>\n",
    "    \n",
    "    z_stat = <...>\n",
    "    pvalue = <...>\n",
    "    \n",
    "    q = <...>\n",
    "    left_bound = stat - <...>\n",
    "    right_bound = stat + <...>\n",
    "    \n",
    "    return stat, pvalue, left_bound, right_bound"
   ]
  },
  {
   "cell_type": "code",
   "execution_count": null,
   "metadata": {
    "id": "sD7vkRIVysDV"
   },
   "outputs": [],
   "source": [
    "def calculate_real_alpha(n_reject, n_iter):\n",
    "    '''\n",
    "    Оценка реального уровня значимости и его дов. интервала.\n",
    "    Используется для оценки вероятности ошибки первого рода и мощности\n",
    "\n",
    "    Аргументы:\n",
    "    n_reject -- количество отвержений H_0 в эксперименте\n",
    "    n_iter -- количество экспериментов\n",
    "\n",
    "    Возвращает:\n",
    "    real_alpha -- оценка реального уровня значимости\n",
    "    left_bound, right_bound -- границы соотв. дов. интервала\n",
    "    '''\n",
    "\n",
    "    real_alpha = n_reject / n_iter\n",
    "    std = np.sqrt(real_alpha * (1-real_alpha) / n_iter)\n",
    "    left_bound = real_alpha - 2 * std\n",
    "    right_bound = real_alpha + 2 * std\n",
    "\n",
    "    return real_alpha, left_bound, right_bound"
   ]
  },
  {
   "cell_type": "code",
   "execution_count": null,
   "metadata": {
    "id": "QlV2kjagysDV"
   },
   "outputs": [],
   "source": [
    "def draw_interval(\n",
    "    real_alpha, left_bound, right_bound,\n",
    "    alpha=0.05, new_fig=True\n",
    "):\n",
    "    '''\n",
    "    Отрисовка интервала для вероятности отвержения критерия\n",
    "    \n",
    "    Аргументы:\n",
    "    real_alpha -- оценка реального уровня значимости\n",
    "    left_bound, right_bound -- границы дов. интервала\n",
    "    alpha -- теоретический уровень значимости\n",
    "    new_fig -- coздавать ли новую matplotlib figure\n",
    "    '''\n",
    "\n",
    "    if new_fig:\n",
    "        plt.figure(figsize=(7, 3.5))\n",
    "\n",
    "    plt.hlines(0, 0, 1,\n",
    "               color='black', lw=2, alpha=0.6)\n",
    "    plt.vlines(alpha, -1, 1,\n",
    "               color='red', lw=2, linestyle='--', alpha=0.6)\n",
    "    plt.fill_between([left_bound, right_bound], [0.1]*2, [-0.1]*2,\n",
    "                     color='green', alpha=0.6)\n",
    "    plt.scatter(real_alpha, 0, s=300, marker='*', color='red')\n",
    "    plt.xlim((min(alpha, left_bound)-1e-3, max(alpha, right_bound)+1e-3))\n",
    "    plt.title(\n",
    "            f'Доля отвержений = {100*real_alpha:.2f}%, '\n",
    "            f'интервал ({100*left_bound:.2f}%, {100*right_bound:.2f}%)'\n",
    "        )\n",
    "    plt.ylim((-0.5, 0.5))\n",
    "    plt.yticks([])"
   ]
  },
  {
   "cell_type": "code",
   "execution_count": null,
   "metadata": {
    "id": "8QapNx6jysDV"
   },
   "outputs": [],
   "source": [
    "def AB_test(\n",
    "    distr1, distr2, n_iter=10_000, sample_size=1_000, alpha=0.05\n",
    "):\n",
    "    '''\n",
    "    Проведение серии AB-тестов на искусственных выборках.\n",
    "\n",
    "    Аргументы:\n",
    "    distr1, distr2 -- распределения для семплирования выборок\n",
    "    n_iter -- количество итераций\n",
    "    sample_size -- размер выборок\n",
    "    alpha -- уровень значимости\n",
    "    '''\n",
    "\n",
    "    n_reject = 0  # количество отвержений H_0\n",
    "\n",
    "    # Проведение экспериментов\n",
    "    for _ in tqdm(range(n_iter)):\n",
    "        x = distr1.rvs(size=sample_size)\n",
    "        y = distr2.rvs(size=sample_size)\n",
    "        n_reject += (relative_ttest(x, y)[1] < alpha)\n",
    "\n",
    "    # Реальный уровень значимости\n",
    "    real_alpha, left_bound, right_bound = calculate_real_alpha(n_reject, n_iter)\n",
    "    print('{:.4f} +/- {:.4f}'.format(\n",
    "        real_alpha, (right_bound - left_bound)/2\n",
    "    ))\n",
    "\n",
    "    plt.figure(figsize=(14, 3.5))\n",
    "\n",
    "    # График плотности распределений\n",
    "    with sns.axes_style(\"darkgrid\"):\n",
    "        plt.subplot(1, 2, 1)\n",
    "        for d, label in zip([distr1, distr2], ['A', 'B']):\n",
    "            grid = np.linspace(d.ppf(0.005) - 0.2, d.ppf(0.995) + 0.2, 1000)\n",
    "            plt.plot(grid, d.pdf(grid), label=label, lw=3)\n",
    "        plt.legend()\n",
    "        plt.title('Плотности выборок')\n",
    "\n",
    "    # График интервала\n",
    "    with sns.axes_style(\"whitegrid\"):\n",
    "        plt.subplot(1, 2, 2)\n",
    "        draw_interval(\n",
    "            real_alpha, left_bound, right_bound,\n",
    "            alpha=alpha, new_fig=False\n",
    "        )\n",
    "\n",
    "    plt.tight_layout()"
   ]
  },
  {
   "cell_type": "markdown",
   "metadata": {
    "id": "1tsVv3OpysDW"
   },
   "source": [
    "Проверим корректность критерия методом AA-тестирования на искусственных данных. Рассмотрите разные виды распределений и разный размер выборки. Представим полученные результаты в удобном виде."
   ]
  },
  {
   "cell_type": "code",
   "execution_count": null,
   "metadata": {
    "id": "TwJg3bRNysDW"
   },
   "outputs": [],
   "source": [
    "n_iter = 20000  # количество итераций в одном эксперименте\n",
    "alpha = 0.05  # уровень значимости"
   ]
  },
  {
   "cell_type": "markdown",
   "metadata": {
    "id": "StdjQoy_ysDW"
   },
   "source": [
    "#### Экспоненциальное распределение"
   ]
  },
  {
   "cell_type": "markdown",
   "metadata": {},
   "source": [
    "Проведем эксперименты для разных размеров выборок."
   ]
  },
  {
   "cell_type": "code",
   "execution_count": null,
   "metadata": {
    "colab": {
     "base_uri": "https://localhost:8080/",
     "height": 374
    },
    "id": "Pa1BuRflysDW",
    "outputId": "5ee66500-02eb-40b2-b20d-16c451e45a2b"
   },
   "outputs": [],
   "source": [
    "AB_test(sps.expon, sps.expon, n_iter=n_iter, sample_size=10, alpha=alpha)"
   ]
  },
  {
   "cell_type": "code",
   "execution_count": null,
   "metadata": {
    "colab": {
     "base_uri": "https://localhost:8080/",
     "height": 374
    },
    "id": "wS445wSyysDX",
    "outputId": "d4fc4019-ffed-4f37-c58b-266ee6f8a6b8"
   },
   "outputs": [],
   "source": [
    "AB_test(sps.expon, sps.expon, n_iter=n_iter, sample_size=100, alpha=alpha)"
   ]
  },
  {
   "cell_type": "code",
   "execution_count": null,
   "metadata": {
    "colab": {
     "base_uri": "https://localhost:8080/",
     "height": 374
    },
    "id": "V0uLnLoHysDX",
    "outputId": "e371446d-40f1-4df1-c634-e2364e8e4100"
   },
   "outputs": [],
   "source": [
    "AB_test(sps.expon, sps.expon, n_iter=n_iter, sample_size=1_000, alpha=alpha)"
   ]
  },
  {
   "cell_type": "code",
   "execution_count": null,
   "metadata": {
    "colab": {
     "base_uri": "https://localhost:8080/",
     "height": 374
    },
    "id": "W-4yDw9BysDY",
    "outputId": "02ae1135-0062-4ec4-928c-84a2313c8379"
   },
   "outputs": [],
   "source": [
    "AB_test(sps.expon, sps.expon, n_iter=n_iter, sample_size=10_000, alpha=alpha)"
   ]
  },
  {
   "cell_type": "markdown",
   "metadata": {
    "id": "iGKtEFJPysDY"
   },
   "source": [
    "#### Гамма-распределение"
   ]
  },
  {
   "cell_type": "markdown",
   "metadata": {},
   "source": [
    "Проведем эксперименты для разных размеров выборок."
   ]
  },
  {
   "cell_type": "code",
   "execution_count": null,
   "metadata": {
    "colab": {
     "base_uri": "https://localhost:8080/",
     "height": 374
    },
    "id": "XXtWTuWLysDY",
    "outputId": "b7693339-13fa-41e5-fad7-167f2e359340"
   },
   "outputs": [],
   "source": [
    "AB_test(sps.gamma(a=3), sps.gamma(a=3), n_iter=n_iter, sample_size=10, alpha=alpha)"
   ]
  },
  {
   "cell_type": "code",
   "execution_count": null,
   "metadata": {
    "colab": {
     "base_uri": "https://localhost:8080/",
     "height": 374
    },
    "id": "jvUE-LRRysDY",
    "outputId": "0cb5b6db-902c-4f6e-9953-075be07e3065"
   },
   "outputs": [],
   "source": [
    "AB_test(sps.gamma(a=3), sps.gamma(a=3), n_iter=n_iter, sample_size=100, alpha=alpha)"
   ]
  },
  {
   "cell_type": "code",
   "execution_count": null,
   "metadata": {
    "colab": {
     "base_uri": "https://localhost:8080/",
     "height": 374
    },
    "id": "RFk7evqNysDZ",
    "outputId": "cba62c9d-c5bb-47c1-cc00-5dfc48af8ebc"
   },
   "outputs": [],
   "source": [
    "AB_test(sps.gamma(a=3), sps.gamma(a=3), n_iter=n_iter, sample_size=10_000, alpha=alpha)"
   ]
  },
  {
   "cell_type": "markdown",
   "metadata": {
    "id": "Cii0IifnysDZ"
   },
   "source": [
    "#### Распределение Коши"
   ]
  },
  {
   "cell_type": "markdown",
   "metadata": {},
   "source": [
    "Проведем эксперименты для разных размеров выборок."
   ]
  },
  {
   "cell_type": "code",
   "execution_count": null,
   "metadata": {
    "colab": {
     "base_uri": "https://localhost:8080/",
     "height": 374
    },
    "id": "t_7RYKYKysDZ",
    "outputId": "d87dcd3e-2aa2-490d-f108-611391219739"
   },
   "outputs": [],
   "source": [
    "AB_test(sps.cauchy(loc=1000), sps.cauchy(loc=1000), n_iter=n_iter, sample_size=1000, alpha=alpha)"
   ]
  },
  {
   "cell_type": "markdown",
   "metadata": {
    "id": "kt4uSAdzysDZ"
   },
   "source": [
    "#### Нормальное распределение"
   ]
  },
  {
   "cell_type": "markdown",
   "metadata": {},
   "source": [
    "Проведем эксперименты для разных размеров выборок."
   ]
  },
  {
   "cell_type": "code",
   "execution_count": null,
   "metadata": {
    "colab": {
     "base_uri": "https://localhost:8080/",
     "height": 374
    },
    "id": "ngL8szFzysDZ",
    "outputId": "434cdcd6-1198-43fc-ac87-e0e45a595a9a"
   },
   "outputs": [],
   "source": [
    "AB_test(sps.norm, sps.norm, n_iter=n_iter, sample_size=100, alpha=alpha)"
   ]
  },
  {
   "cell_type": "code",
   "execution_count": null,
   "metadata": {
    "colab": {
     "base_uri": "https://localhost:8080/",
     "height": 374
    },
    "id": "lq4E-8oDysDa",
    "outputId": "f0a514d5-6d2a-4997-811a-6b6aacbff8fc"
   },
   "outputs": [],
   "source": [
    "AB_test(sps.norm, sps.norm, n_iter=n_iter, sample_size=1_000, alpha=alpha)"
   ]
  },
  {
   "cell_type": "markdown",
   "metadata": {
    "id": "8WWBfZPfV3MJ"
   },
   "source": [
    "**Вывод:** "
   ]
  },
  {
   "cell_type": "markdown",
   "metadata": {
    "id": "ymaUyG9FysDa"
   },
   "source": [
    "#### Мощность для распределения\n",
    "\n",
    "Зафиксируйте тип распределения и размер выборки. Исследуйте мощность критерия с помощью добавления смещения к одной из выборок."
   ]
  },
  {
   "cell_type": "code",
   "execution_count": null,
   "metadata": {
    "id": "9C5W4mMgysDa"
   },
   "outputs": [],
   "source": [
    "alpha=0.05"
   ]
  },
  {
   "cell_type": "code",
   "execution_count": null,
   "metadata": {
    "colab": {
     "base_uri": "https://localhost:8080/",
     "height": 374
    },
    "id": "JBPTUxPzysDa",
    "outputId": "1ae7b6b9-396b-4e03-ca37-fa8a48577cff"
   },
   "outputs": [],
   "source": [
    "AB_test(sps.gamma(a=3), sps.gamma(a=3, loc=0.01), n_iter=n_iter, sample_size=100, alpha=alpha)"
   ]
  },
  {
   "cell_type": "code",
   "execution_count": null,
   "metadata": {
    "colab": {
     "base_uri": "https://localhost:8080/",
     "height": 374
    },
    "id": "mPSlNFh3ysDa",
    "outputId": "dbaa23b2-3e17-4a48-d9df-cf9313b8244f"
   },
   "outputs": [],
   "source": [
    "AB_test(sps.gamma(a=3), sps.gamma(a=3, loc=0.1), n_iter=n_iter, sample_size=100, alpha=alpha)"
   ]
  },
  {
   "cell_type": "code",
   "execution_count": null,
   "metadata": {
    "colab": {
     "base_uri": "https://localhost:8080/",
     "height": 374
    },
    "id": "L-PcYUCpysDb",
    "outputId": "4aeb0f9b-625f-4f77-9ef9-83e147ab5874"
   },
   "outputs": [],
   "source": [
    "AB_test(sps.gamma(a=3), sps.gamma(a=3, loc=1), n_iter=n_iter, sample_size=100, alpha=alpha)"
   ]
  },
  {
   "cell_type": "markdown",
   "metadata": {
    "id": "8Igah0U4ysDb"
   },
   "source": [
    "Рассмотрим сетку значений сдвига"
   ]
  },
  {
   "cell_type": "code",
   "execution_count": null,
   "metadata": {
    "colab": {
     "base_uri": "https://localhost:8080/"
    },
    "id": "ZGXCfIYyysDb",
    "outputId": "fe5228b6-d4a2-4ba9-e101-07a924cf522e"
   },
   "outputs": [],
   "source": [
    "n_reject = []  # количество отвержений H_0\n",
    "sample_size = 1000\n",
    "shifts = np.linspace(0, 0.5, 21)\n",
    "\n",
    "for loc in tqdm(shifts):\n",
    "    n_reject.append(0)\n",
    "    for _ in range(n_iter):\n",
    "        x = sps.gamma.rvs(a=3, size=sample_size)\n",
    "        y = sps.gamma.rvs(a=3, size=sample_size) + loc\n",
    "        n_reject[-1] += relative_ttest(x, y)[3] < alpha"
   ]
  },
  {
   "cell_type": "code",
   "execution_count": null,
   "metadata": {
    "colab": {
     "base_uri": "https://localhost:8080/",
     "height": 488
    },
    "id": "LAc9XCSWysDb",
    "outputId": "4c25b8a6-aaae-4f77-81df-bf126c539322"
   },
   "outputs": [],
   "source": [
    "plt.plot(shifts, np.array(n_reject)/n_iter, lw=3)\n",
    "plt.title('Мощность относительного t-test')\n",
    "plt.xlabel('Смещение')\n",
    "plt.ylabel('Мощность');"
   ]
  },
  {
   "cell_type": "markdown",
   "metadata": {
    "id": "YcMlnvSFVrTz"
   },
   "source": [
    "**Вывод:** "
   ]
  }
 ],
 "metadata": {
  "colab": {
   "provenance": []
  },
  "kernelspec": {
   "display_name": "Python 3 (ipykernel)",
   "language": "python",
   "name": "python3"
  },
  "language_info": {
   "codemirror_mode": {
    "name": "ipython",
    "version": 3
   },
   "file_extension": ".py",
   "mimetype": "text/x-python",
   "name": "python",
   "nbconvert_exporter": "python",
   "pygments_lexer": "ipython3",
   "version": "3.12.7"
  }
 },
 "nbformat": 4,
 "nbformat_minor": 4
}
