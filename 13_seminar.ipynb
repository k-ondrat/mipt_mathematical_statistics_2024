{
  "cells": [
    {
      "cell_type": "markdown",
      "id": "36bcd147",
      "metadata": {
        "id": "36bcd147"
      },
      "source": [
        "# <a href=\"https://thetahat.ru/courses/bm-2024-aut\">Статистика ФБМФ</a>\n",
        "## Семинар 13\n",
        "\n",
        "**Правила, <font color=\"red\">прочитайте внимательно</font>:**\n",
        "\n",
        "* Выполненную работу нужно отправить телеграм-боту `@miptstats_st_bot`. Для начала работы с ботом каждый раз отправляйте `/start`. **Работы, присланные иным способом, не принимаются.**\n",
        "* Дедлайн см. в боте. После дедлайна работы не принимаются кроме случаев наличия уважительной причины.\n",
        "* Прислать нужно ноутбук в формате `ipynb`.\n",
        "* Выполнять задание необходимо полностью самостоятельно. **При обнаружении списывания все участники списывания будут сдавать устный зачет.**\n",
        "* Решения, размещенные на каких-либо интернет-ресурсах, не принимаются. Кроме того, публикация решения в открытом доступе может быть приравнена к предоставлении возможности списать.\n",
        "* Для выполнения задания используйте этот ноутбук в качестве основы, ничего не удаляя из него. Можно добавлять необходимое количество ячеек.\n",
        "* Комментарии к решению пишите в markdown-ячейках.\n",
        "* Выполнение задания (ход решения, выводы и пр.) должно быть осуществлено на русском языке.\n",
        "* Если код будет не понятен проверяющему, оценка может быть снижена.\n",
        "* Никакой код из данного задания при проверке запускаться не будет. *Если код студента не выполнен, недописан и т.д., то он не оценивается.*\n",
        "* **Код из рассказанных на занятиях ноутбуков можно использовать без ограничений.**\n",
        "\n",
        "**Правила оформления теоретических задач:**\n",
        "\n",
        "* Решения необходимо прислать одним из следующих способов:\n",
        "  * фотографией в правильной ориентации, где все четко видно, а почерк разборчив,\n",
        "    * отправив ее как файл боту вместе с ноутбуком *или*\n",
        "    * вставив ее в ноутбук посредством `Edit -> Insert Image` (<font color=\"red\">фото, вставленные ссылкой, не принимаются</font>);\n",
        "  * в виде $\\LaTeX$ в markdown-ячейках.\n",
        "* Решения не проверяются, если какое-то требование не выполнено. Особенно внимательно все проверьте в случае выбора второго пункта (вставки фото в ноутбук). <font color=\"red\"><b>Неправильно вставленные фотографии могут не передаться при отправке.</b></font> Для проверки попробуйте переместить `ipynb` в другую папку и открыть его там.\n",
        "* В решениях поясняйте, чем вы пользуетесь, хотя бы кратко. Например, если пользуетесь независимостью, то достаточно подписи вида \"*X и Y незав.*\"\n",
        "* Решение, в котором есть только ответ, и отсутствуют вычисления, оценивается в 0 баллов."
      ]
    },
    {
      "cell_type": "code",
      "execution_count": null,
      "id": "3e408ebe",
      "metadata": {
        "id": "3e408ebe"
      },
      "outputs": [],
      "source": [
        "# Bot check\n",
        "\n",
        "# HW_ID: st_sem13\n",
        "# Бот проверит этот ID и предупредит, если случайно сдать что-то не то.\n",
        "\n",
        "# Status: final\n",
        "# Перед отправкой в финальном решении удали \"not\" в строчке выше.\n",
        "# Так бот проверит, что ты отправляешь финальную версию, а не промежуточную.\n",
        "# Никакие значения в этой ячейке не влияют на факт сдачи работы."
      ]
    },
    {
      "cell_type": "code",
      "execution_count": null,
      "id": "b961abfd",
      "metadata": {
        "id": "b961abfd"
      },
      "outputs": [],
      "source": [
        "import pandas as pd\n",
        "import numpy as np\n",
        "import scipy.stats as sps\n",
        "\n",
        "from matplotlib import pyplot as plt\n",
        "from matplotlib import style\n",
        "import seaborn as sns\n",
        "\n",
        "from tqdm.notebook import tqdm\n",
        "\n",
        "import statsmodels.api as sm\n",
        "import statsmodels.datasets as smd\n",
        "import statsmodels.formula.api as smf\n",
        "import statsmodels.stats.api as sms\n",
        "\n",
        "import warnings\n",
        "warnings.filterwarnings(\"ignore\")\n",
        "\n",
        "sns.set(style='whitegrid', font_scale=1.3, palette='Set2')"
      ]
    },
    {
      "cell_type": "markdown",
      "id": "w0MZWjUyhwBa",
      "metadata": {
        "id": "w0MZWjUyhwBa"
      },
      "source": [
        "### 1. Инициализация и обучение моделей через формулы\n",
        "В этом семинаре нам понадобится модуль `statsmodels.formula.api`, который позволяет задавать модели, указав формулу в виде `target ~ features`, которая означает линейную функцию `target` от `features`.\n",
        "\n",
        "Рассмотрим пример задания модели линейной регрессии OLS (подробнее можно почитать в [документации](https://www.statsmodels.org/dev/example_formulas.html)).\n"
      ]
    },
    {
      "cell_type": "code",
      "execution_count": null,
      "id": "X07zG9sgllz7",
      "metadata": {
        "colab": {
          "base_uri": "https://localhost:8080/",
          "height": 206
        },
        "id": "X07zG9sgllz7",
        "outputId": "30c1773c-9a94-4edb-dcb6-f7a6802e8375"
      },
      "outputs": [
        {
          "output_type": "execute_result",
          "data": {
            "text/plain": [
              "   Lottery  Literacy  Wealth Region\n",
              "0       41        37      73      E\n",
              "1       38        51      22      N\n",
              "2       66        13      61      C\n",
              "3       80        46      76      E\n",
              "4       79        69      83      E"
            ],
            "text/html": [
              "\n",
              "  <div id=\"df-9f03596b-17ee-4421-86c3-48e93e345053\" class=\"colab-df-container\">\n",
              "    <div>\n",
              "<style scoped>\n",
              "    .dataframe tbody tr th:only-of-type {\n",
              "        vertical-align: middle;\n",
              "    }\n",
              "\n",
              "    .dataframe tbody tr th {\n",
              "        vertical-align: top;\n",
              "    }\n",
              "\n",
              "    .dataframe thead th {\n",
              "        text-align: right;\n",
              "    }\n",
              "</style>\n",
              "<table border=\"1\" class=\"dataframe\">\n",
              "  <thead>\n",
              "    <tr style=\"text-align: right;\">\n",
              "      <th></th>\n",
              "      <th>Lottery</th>\n",
              "      <th>Literacy</th>\n",
              "      <th>Wealth</th>\n",
              "      <th>Region</th>\n",
              "    </tr>\n",
              "  </thead>\n",
              "  <tbody>\n",
              "    <tr>\n",
              "      <th>0</th>\n",
              "      <td>41</td>\n",
              "      <td>37</td>\n",
              "      <td>73</td>\n",
              "      <td>E</td>\n",
              "    </tr>\n",
              "    <tr>\n",
              "      <th>1</th>\n",
              "      <td>38</td>\n",
              "      <td>51</td>\n",
              "      <td>22</td>\n",
              "      <td>N</td>\n",
              "    </tr>\n",
              "    <tr>\n",
              "      <th>2</th>\n",
              "      <td>66</td>\n",
              "      <td>13</td>\n",
              "      <td>61</td>\n",
              "      <td>C</td>\n",
              "    </tr>\n",
              "    <tr>\n",
              "      <th>3</th>\n",
              "      <td>80</td>\n",
              "      <td>46</td>\n",
              "      <td>76</td>\n",
              "      <td>E</td>\n",
              "    </tr>\n",
              "    <tr>\n",
              "      <th>4</th>\n",
              "      <td>79</td>\n",
              "      <td>69</td>\n",
              "      <td>83</td>\n",
              "      <td>E</td>\n",
              "    </tr>\n",
              "  </tbody>\n",
              "</table>\n",
              "</div>\n",
              "    <div class=\"colab-df-buttons\">\n",
              "\n",
              "  <div class=\"colab-df-container\">\n",
              "    <button class=\"colab-df-convert\" onclick=\"convertToInteractive('df-9f03596b-17ee-4421-86c3-48e93e345053')\"\n",
              "            title=\"Convert this dataframe to an interactive table.\"\n",
              "            style=\"display:none;\">\n",
              "\n",
              "  <svg xmlns=\"http://www.w3.org/2000/svg\" height=\"24px\" viewBox=\"0 -960 960 960\">\n",
              "    <path d=\"M120-120v-720h720v720H120Zm60-500h600v-160H180v160Zm220 220h160v-160H400v160Zm0 220h160v-160H400v160ZM180-400h160v-160H180v160Zm440 0h160v-160H620v160ZM180-180h160v-160H180v160Zm440 0h160v-160H620v160Z\"/>\n",
              "  </svg>\n",
              "    </button>\n",
              "\n",
              "  <style>\n",
              "    .colab-df-container {\n",
              "      display:flex;\n",
              "      gap: 12px;\n",
              "    }\n",
              "\n",
              "    .colab-df-convert {\n",
              "      background-color: #E8F0FE;\n",
              "      border: none;\n",
              "      border-radius: 50%;\n",
              "      cursor: pointer;\n",
              "      display: none;\n",
              "      fill: #1967D2;\n",
              "      height: 32px;\n",
              "      padding: 0 0 0 0;\n",
              "      width: 32px;\n",
              "    }\n",
              "\n",
              "    .colab-df-convert:hover {\n",
              "      background-color: #E2EBFA;\n",
              "      box-shadow: 0px 1px 2px rgba(60, 64, 67, 0.3), 0px 1px 3px 1px rgba(60, 64, 67, 0.15);\n",
              "      fill: #174EA6;\n",
              "    }\n",
              "\n",
              "    .colab-df-buttons div {\n",
              "      margin-bottom: 4px;\n",
              "    }\n",
              "\n",
              "    [theme=dark] .colab-df-convert {\n",
              "      background-color: #3B4455;\n",
              "      fill: #D2E3FC;\n",
              "    }\n",
              "\n",
              "    [theme=dark] .colab-df-convert:hover {\n",
              "      background-color: #434B5C;\n",
              "      box-shadow: 0px 1px 3px 1px rgba(0, 0, 0, 0.15);\n",
              "      filter: drop-shadow(0px 1px 2px rgba(0, 0, 0, 0.3));\n",
              "      fill: #FFFFFF;\n",
              "    }\n",
              "  </style>\n",
              "\n",
              "    <script>\n",
              "      const buttonEl =\n",
              "        document.querySelector('#df-9f03596b-17ee-4421-86c3-48e93e345053 button.colab-df-convert');\n",
              "      buttonEl.style.display =\n",
              "        google.colab.kernel.accessAllowed ? 'block' : 'none';\n",
              "\n",
              "      async function convertToInteractive(key) {\n",
              "        const element = document.querySelector('#df-9f03596b-17ee-4421-86c3-48e93e345053');\n",
              "        const dataTable =\n",
              "          await google.colab.kernel.invokeFunction('convertToInteractive',\n",
              "                                                    [key], {});\n",
              "        if (!dataTable) return;\n",
              "\n",
              "        const docLinkHtml = 'Like what you see? Visit the ' +\n",
              "          '<a target=\"_blank\" href=https://colab.research.google.com/notebooks/data_table.ipynb>data table notebook</a>'\n",
              "          + ' to learn more about interactive tables.';\n",
              "        element.innerHTML = '';\n",
              "        dataTable['output_type'] = 'display_data';\n",
              "        await google.colab.output.renderOutput(dataTable, element);\n",
              "        const docLink = document.createElement('div');\n",
              "        docLink.innerHTML = docLinkHtml;\n",
              "        element.appendChild(docLink);\n",
              "      }\n",
              "    </script>\n",
              "  </div>\n",
              "\n",
              "\n",
              "<div id=\"df-f7ed5c39-c9b0-4a1a-b380-124338036c71\">\n",
              "  <button class=\"colab-df-quickchart\" onclick=\"quickchart('df-f7ed5c39-c9b0-4a1a-b380-124338036c71')\"\n",
              "            title=\"Suggest charts\"\n",
              "            style=\"display:none;\">\n",
              "\n",
              "<svg xmlns=\"http://www.w3.org/2000/svg\" height=\"24px\"viewBox=\"0 0 24 24\"\n",
              "     width=\"24px\">\n",
              "    <g>\n",
              "        <path d=\"M19 3H5c-1.1 0-2 .9-2 2v14c0 1.1.9 2 2 2h14c1.1 0 2-.9 2-2V5c0-1.1-.9-2-2-2zM9 17H7v-7h2v7zm4 0h-2V7h2v10zm4 0h-2v-4h2v4z\"/>\n",
              "    </g>\n",
              "</svg>\n",
              "  </button>\n",
              "\n",
              "<style>\n",
              "  .colab-df-quickchart {\n",
              "      --bg-color: #E8F0FE;\n",
              "      --fill-color: #1967D2;\n",
              "      --hover-bg-color: #E2EBFA;\n",
              "      --hover-fill-color: #174EA6;\n",
              "      --disabled-fill-color: #AAA;\n",
              "      --disabled-bg-color: #DDD;\n",
              "  }\n",
              "\n",
              "  [theme=dark] .colab-df-quickchart {\n",
              "      --bg-color: #3B4455;\n",
              "      --fill-color: #D2E3FC;\n",
              "      --hover-bg-color: #434B5C;\n",
              "      --hover-fill-color: #FFFFFF;\n",
              "      --disabled-bg-color: #3B4455;\n",
              "      --disabled-fill-color: #666;\n",
              "  }\n",
              "\n",
              "  .colab-df-quickchart {\n",
              "    background-color: var(--bg-color);\n",
              "    border: none;\n",
              "    border-radius: 50%;\n",
              "    cursor: pointer;\n",
              "    display: none;\n",
              "    fill: var(--fill-color);\n",
              "    height: 32px;\n",
              "    padding: 0;\n",
              "    width: 32px;\n",
              "  }\n",
              "\n",
              "  .colab-df-quickchart:hover {\n",
              "    background-color: var(--hover-bg-color);\n",
              "    box-shadow: 0 1px 2px rgba(60, 64, 67, 0.3), 0 1px 3px 1px rgba(60, 64, 67, 0.15);\n",
              "    fill: var(--button-hover-fill-color);\n",
              "  }\n",
              "\n",
              "  .colab-df-quickchart-complete:disabled,\n",
              "  .colab-df-quickchart-complete:disabled:hover {\n",
              "    background-color: var(--disabled-bg-color);\n",
              "    fill: var(--disabled-fill-color);\n",
              "    box-shadow: none;\n",
              "  }\n",
              "\n",
              "  .colab-df-spinner {\n",
              "    border: 2px solid var(--fill-color);\n",
              "    border-color: transparent;\n",
              "    border-bottom-color: var(--fill-color);\n",
              "    animation:\n",
              "      spin 1s steps(1) infinite;\n",
              "  }\n",
              "\n",
              "  @keyframes spin {\n",
              "    0% {\n",
              "      border-color: transparent;\n",
              "      border-bottom-color: var(--fill-color);\n",
              "      border-left-color: var(--fill-color);\n",
              "    }\n",
              "    20% {\n",
              "      border-color: transparent;\n",
              "      border-left-color: var(--fill-color);\n",
              "      border-top-color: var(--fill-color);\n",
              "    }\n",
              "    30% {\n",
              "      border-color: transparent;\n",
              "      border-left-color: var(--fill-color);\n",
              "      border-top-color: var(--fill-color);\n",
              "      border-right-color: var(--fill-color);\n",
              "    }\n",
              "    40% {\n",
              "      border-color: transparent;\n",
              "      border-right-color: var(--fill-color);\n",
              "      border-top-color: var(--fill-color);\n",
              "    }\n",
              "    60% {\n",
              "      border-color: transparent;\n",
              "      border-right-color: var(--fill-color);\n",
              "    }\n",
              "    80% {\n",
              "      border-color: transparent;\n",
              "      border-right-color: var(--fill-color);\n",
              "      border-bottom-color: var(--fill-color);\n",
              "    }\n",
              "    90% {\n",
              "      border-color: transparent;\n",
              "      border-bottom-color: var(--fill-color);\n",
              "    }\n",
              "  }\n",
              "</style>\n",
              "\n",
              "  <script>\n",
              "    async function quickchart(key) {\n",
              "      const quickchartButtonEl =\n",
              "        document.querySelector('#' + key + ' button');\n",
              "      quickchartButtonEl.disabled = true;  // To prevent multiple clicks.\n",
              "      quickchartButtonEl.classList.add('colab-df-spinner');\n",
              "      try {\n",
              "        const charts = await google.colab.kernel.invokeFunction(\n",
              "            'suggestCharts', [key], {});\n",
              "      } catch (error) {\n",
              "        console.error('Error during call to suggestCharts:', error);\n",
              "      }\n",
              "      quickchartButtonEl.classList.remove('colab-df-spinner');\n",
              "      quickchartButtonEl.classList.add('colab-df-quickchart-complete');\n",
              "    }\n",
              "    (() => {\n",
              "      let quickchartButtonEl =\n",
              "        document.querySelector('#df-f7ed5c39-c9b0-4a1a-b380-124338036c71 button');\n",
              "      quickchartButtonEl.style.display =\n",
              "        google.colab.kernel.accessAllowed ? 'block' : 'none';\n",
              "    })();\n",
              "  </script>\n",
              "</div>\n",
              "    </div>\n",
              "  </div>\n"
            ],
            "application/vnd.google.colaboratory.intrinsic+json": {
              "type": "dataframe",
              "variable_name": "df",
              "summary": "{\n  \"name\": \"df\",\n  \"rows\": 85,\n  \"fields\": [\n    {\n      \"column\": \"Lottery\",\n      \"properties\": {\n        \"dtype\": \"number\",\n        \"std\": 24,\n        \"min\": 1,\n        \"max\": 86,\n        \"num_unique_values\": 85,\n        \"samples\": [\n          26,\n          41,\n          45\n        ],\n        \"semantic_type\": \"\",\n        \"description\": \"\"\n      }\n    },\n    {\n      \"column\": \"Literacy\",\n      \"properties\": {\n        \"dtype\": \"number\",\n        \"std\": 17,\n        \"min\": 12,\n        \"max\": 74,\n        \"num_unique_values\": 50,\n        \"samples\": [\n          36,\n          20,\n          24\n        ],\n        \"semantic_type\": \"\",\n        \"description\": \"\"\n      }\n    },\n    {\n      \"column\": \"Wealth\",\n      \"properties\": {\n        \"dtype\": \"number\",\n        \"std\": 25,\n        \"min\": 1,\n        \"max\": 86,\n        \"num_unique_values\": 85,\n        \"samples\": [\n          43,\n          73,\n          49\n        ],\n        \"semantic_type\": \"\",\n        \"description\": \"\"\n      }\n    },\n    {\n      \"column\": \"Region\",\n      \"properties\": {\n        \"dtype\": \"category\",\n        \"num_unique_values\": 5,\n        \"samples\": [\n          \"N\",\n          \"W\",\n          \"C\"\n        ],\n        \"semantic_type\": \"\",\n        \"description\": \"\"\n      }\n    }\n  ]\n}"
            }
          },
          "metadata": {},
          "execution_count": 19
        }
      ],
      "source": [
        "df = sm.datasets.get_rdataset(\"Guerry\", \"HistData\").data\n",
        "df = df[['Lottery', 'Literacy', 'Wealth', 'Region']].dropna()\n",
        "df.head()"
      ]
    },
    {
      "cell_type": "markdown",
      "id": "V6wcFvKcmaK7",
      "metadata": {
        "id": "V6wcFvKcmaK7"
      },
      "source": [
        "Итак, предположим, нам нужно обучить модель для таргета `Lottery` по признакам `Literacy`, `Wealth` и `Region` из датасета выше. Тогда синтаксис будет выглядеть таким образом:"
      ]
    },
    {
      "cell_type": "code",
      "execution_count": null,
      "id": "Ta7S8t7C3PVM",
      "metadata": {
        "id": "Ta7S8t7C3PVM"
      },
      "outputs": [],
      "source": [
        "model = smf.ols(formula='Lottery ~ Literacy + Wealth + Region', data=df)\n",
        "res = model.fit()"
      ]
    },
    {
      "cell_type": "markdown",
      "id": "jwqKlREm3EJV",
      "metadata": {
        "id": "jwqKlREm3EJV"
      },
      "source": [
        "Метод `fit` возвращает объект типа `statsmodels.regression.linear_model.RegressionResults`, который содержит различные характеристики модели:\n",
        "* в первой секции представлены различные характеристики самой модели\n",
        "  * параметры обучения,\n",
        "  * $R^2$\n",
        "  * проверка гипотезы о значимости регрессии в целом\n",
        "  * логарифмическая функция правдоподобия\n",
        "  * информационные критерии\n",
        "* во второй секции &mdash; подробная информация о коэффициентах, включая анализ их стат. значимости:\n",
        "  * названия коэффициентов (совпадают с именами признаков, или `Intercept` для свободного коэффициента);\n",
        "  * оценки коэффициентов;\n",
        "  * стандартные ошибки &mdash; корень из оценки дисперсии оценки каждого из коэффициентов;\n",
        "  * t-статистика для проверки гипотезы о незначимости коэффициента;\n",
        "  * p-value критерия для проверки гипотезы о незначимости коэффициента (правило: если $\\text{p-value} \\leqslant \\alpha=0.05$, то гипотеза отвергается, иначе &mdash; не отвергается);\n",
        "  * левая и правая граница 95\\% доверительного интервала для коэффициента.\n",
        "* в третьей секции &mdash; анализ остатков модели\n",
        "  * критерии проверки несмещенности, нормальности\n",
        "\n",
        "*Подробнее:* https://www.statsmodels.org/dev/generated/statsmodels.regression.linear_model.RegressionResults.html\n",
        "\n",
        "Посмотрим на результат **в предположении гомоскедастичности**"
      ]
    },
    {
      "cell_type": "code",
      "execution_count": null,
      "id": "1BwoL53rmi9F",
      "metadata": {
        "colab": {
          "base_uri": "https://localhost:8080/"
        },
        "id": "1BwoL53rmi9F",
        "outputId": "dbb473c5-af5a-4830-aa84-64925f501ab9"
      },
      "outputs": [
        {
          "output_type": "stream",
          "name": "stdout",
          "text": [
            "                            OLS Regression Results                            \n",
            "==============================================================================\n",
            "Dep. Variable:                Lottery   R-squared:                       0.338\n",
            "Model:                            OLS   Adj. R-squared:                  0.287\n",
            "Method:                 Least Squares   F-statistic:                     6.636\n",
            "Date:                Thu, 28 Nov 2024   Prob (F-statistic):           1.07e-05\n",
            "Time:                        15:19:00   Log-Likelihood:                -375.30\n",
            "No. Observations:                  85   AIC:                             764.6\n",
            "Df Residuals:                      78   BIC:                             781.7\n",
            "Df Model:                           6                                         \n",
            "Covariance Type:            nonrobust                                         \n",
            "===============================================================================\n",
            "                  coef    std err          t      P>|t|      [0.025      0.975]\n",
            "-------------------------------------------------------------------------------\n",
            "Intercept      38.6517      9.456      4.087      0.000      19.826      57.478\n",
            "Region[T.E]   -15.4278      9.727     -1.586      0.117     -34.793       3.938\n",
            "Region[T.N]   -10.0170      9.260     -1.082      0.283     -28.453       8.419\n",
            "Region[T.S]    -4.5483      7.279     -0.625      0.534     -19.039       9.943\n",
            "Region[T.W]   -10.0913      7.196     -1.402      0.165     -24.418       4.235\n",
            "Literacy       -0.1858      0.210     -0.886      0.378      -0.603       0.232\n",
            "Wealth          0.4515      0.103      4.390      0.000       0.247       0.656\n",
            "==============================================================================\n",
            "Omnibus:                        3.049   Durbin-Watson:                   1.785\n",
            "Prob(Omnibus):                  0.218   Jarque-Bera (JB):                2.694\n",
            "Skew:                          -0.340   Prob(JB):                        0.260\n",
            "Kurtosis:                       2.454   Cond. No.                         371.\n",
            "==============================================================================\n",
            "\n",
            "Notes:\n",
            "[1] Standard Errors assume that the covariance matrix of the errors is correctly specified.\n"
          ]
        }
      ],
      "source": [
        "print(res.summary())"
      ]
    },
    {
      "cell_type": "markdown",
      "id": "kWYdCe6KnwDL",
      "metadata": {
        "id": "kWYdCe6KnwDL"
      },
      "source": [
        "Заметим, что модель автоматически добавила свободный член (`Intercept`) и рассмотрела признак `Region` как категориальный, затем удалив одну из категорий (`С`). Так произошло, потому что значения были строками. При этом, если бы мы имели целочисленный призак и хотели бы рассмотреть его как категориальный, то заключили бы его в `C()` при передаче в формулу. То есть, чтобы специфически указать, что признак категориальный, вот так:\n"
      ]
    },
    {
      "cell_type": "code",
      "execution_count": null,
      "id": "_-xlddF6qfUG",
      "metadata": {
        "colab": {
          "base_uri": "https://localhost:8080/"
        },
        "id": "_-xlddF6qfUG",
        "outputId": "ca4b6833-3669-4a94-c22d-d83230307b2e"
      },
      "outputs": [
        {
          "output_type": "stream",
          "name": "stdout",
          "text": [
            "Intercept         38.651655\n",
            "C(Region)[T.E]   -15.427785\n",
            "C(Region)[T.N]   -10.016961\n",
            "C(Region)[T.S]    -4.548257\n",
            "C(Region)[T.W]   -10.091276\n",
            "Literacy          -0.185819\n",
            "Wealth             0.451475\n",
            "dtype: float64\n"
          ]
        }
      ],
      "source": [
        "model = smf.ols(formula='Lottery ~ Literacy + Wealth + C(Region)', data=df)\n",
        "res = model.fit()\n",
        "print(res.params)"
      ]
    },
    {
      "cell_type": "markdown",
      "id": "c3f18d69",
      "metadata": {
        "id": "c3f18d69"
      },
      "source": [
        "*Примечение:* Во всех моделях ниже нас будет интересовать коэффициент при параметре, определяющим принадлежность к А или В группе, а также p-value для него."
      ]
    },
    {
      "cell_type": "markdown",
      "id": "ffa211ba",
      "metadata": {
        "id": "ffa211ba"
      },
      "source": [
        "### 2. Использование признаков\n",
        "\n",
        "**Задача:** исследовать влияние отправки email с напоминанием о долге. Таргет &mdash; сумма платежей от клиентов, которые просрочили платеж.\n",
        "\n",
        "Выбраны 5000 случайных клиентов для проведения рандомизированного эксперимента. Каждый клиент получает электронное письмо случайно с вероятностью 0.5, а значит случайным образом распределяется в одну из групп.\n",
        "\n",
        "Загрузим данные collections_email.csv из [репозитория](https://github.com/matheusfacure/python-causality-handbook/blob/master/causal-inference-for-the-brave-and-true/data/collections_email.csv)"
      ]
    },
    {
      "cell_type": "code",
      "source": [
        "from google.colab import drive\n",
        "drive.mount('/content/drive')"
      ],
      "metadata": {
        "colab": {
          "base_uri": "https://localhost:8080/"
        },
        "id": "0HXomXIFHxfX",
        "outputId": "d83560a6-80b7-4210-b4c9-8d7b20a99647"
      },
      "id": "0HXomXIFHxfX",
      "execution_count": null,
      "outputs": [
        {
          "output_type": "stream",
          "name": "stdout",
          "text": [
            "Drive already mounted at /content/drive; to attempt to forcibly remount, call drive.mount(\"/content/drive\", force_remount=True).\n"
          ]
        }
      ]
    },
    {
      "cell_type": "code",
      "execution_count": null,
      "id": "7cIYUSoQvZbG",
      "metadata": {
        "id": "7cIYUSoQvZbG"
      },
      "outputs": [],
      "source": [
        "DATA_PATH = \"/content/drive/MyDrive/colab_data/collections_email.csv\""
      ]
    },
    {
      "cell_type": "code",
      "execution_count": null,
      "id": "2913e255",
      "metadata": {
        "colab": {
          "base_uri": "https://localhost:8080/",
          "height": 206
        },
        "id": "2913e255",
        "outputId": "82b3e4a5-05d7-48b4-b69e-b8a338497096"
      },
      "outputs": [
        {
          "output_type": "execute_result",
          "data": {
            "text/plain": [
              "   payments  email  opened  agreement  credit_limit  risk_score\n",
              "0       740      1     1.0        0.0   2348.495260    0.666752\n",
              "1       580      1     1.0        1.0    334.111969    0.207395\n",
              "2       600      1     1.0        1.0   1360.660722    0.550479\n",
              "3       770      0     0.0        0.0   1531.828576    0.560488\n",
              "4       660      0     0.0        0.0    979.855647    0.455140"
            ],
            "text/html": [
              "\n",
              "  <div id=\"df-ac2ecd76-8a02-4a36-9017-fb51ece84e9a\" class=\"colab-df-container\">\n",
              "    <div>\n",
              "<style scoped>\n",
              "    .dataframe tbody tr th:only-of-type {\n",
              "        vertical-align: middle;\n",
              "    }\n",
              "\n",
              "    .dataframe tbody tr th {\n",
              "        vertical-align: top;\n",
              "    }\n",
              "\n",
              "    .dataframe thead th {\n",
              "        text-align: right;\n",
              "    }\n",
              "</style>\n",
              "<table border=\"1\" class=\"dataframe\">\n",
              "  <thead>\n",
              "    <tr style=\"text-align: right;\">\n",
              "      <th></th>\n",
              "      <th>payments</th>\n",
              "      <th>email</th>\n",
              "      <th>opened</th>\n",
              "      <th>agreement</th>\n",
              "      <th>credit_limit</th>\n",
              "      <th>risk_score</th>\n",
              "    </tr>\n",
              "  </thead>\n",
              "  <tbody>\n",
              "    <tr>\n",
              "      <th>0</th>\n",
              "      <td>740</td>\n",
              "      <td>1</td>\n",
              "      <td>1.0</td>\n",
              "      <td>0.0</td>\n",
              "      <td>2348.495260</td>\n",
              "      <td>0.666752</td>\n",
              "    </tr>\n",
              "    <tr>\n",
              "      <th>1</th>\n",
              "      <td>580</td>\n",
              "      <td>1</td>\n",
              "      <td>1.0</td>\n",
              "      <td>1.0</td>\n",
              "      <td>334.111969</td>\n",
              "      <td>0.207395</td>\n",
              "    </tr>\n",
              "    <tr>\n",
              "      <th>2</th>\n",
              "      <td>600</td>\n",
              "      <td>1</td>\n",
              "      <td>1.0</td>\n",
              "      <td>1.0</td>\n",
              "      <td>1360.660722</td>\n",
              "      <td>0.550479</td>\n",
              "    </tr>\n",
              "    <tr>\n",
              "      <th>3</th>\n",
              "      <td>770</td>\n",
              "      <td>0</td>\n",
              "      <td>0.0</td>\n",
              "      <td>0.0</td>\n",
              "      <td>1531.828576</td>\n",
              "      <td>0.560488</td>\n",
              "    </tr>\n",
              "    <tr>\n",
              "      <th>4</th>\n",
              "      <td>660</td>\n",
              "      <td>0</td>\n",
              "      <td>0.0</td>\n",
              "      <td>0.0</td>\n",
              "      <td>979.855647</td>\n",
              "      <td>0.455140</td>\n",
              "    </tr>\n",
              "  </tbody>\n",
              "</table>\n",
              "</div>\n",
              "    <div class=\"colab-df-buttons\">\n",
              "\n",
              "  <div class=\"colab-df-container\">\n",
              "    <button class=\"colab-df-convert\" onclick=\"convertToInteractive('df-ac2ecd76-8a02-4a36-9017-fb51ece84e9a')\"\n",
              "            title=\"Convert this dataframe to an interactive table.\"\n",
              "            style=\"display:none;\">\n",
              "\n",
              "  <svg xmlns=\"http://www.w3.org/2000/svg\" height=\"24px\" viewBox=\"0 -960 960 960\">\n",
              "    <path d=\"M120-120v-720h720v720H120Zm60-500h600v-160H180v160Zm220 220h160v-160H400v160Zm0 220h160v-160H400v160ZM180-400h160v-160H180v160Zm440 0h160v-160H620v160ZM180-180h160v-160H180v160Zm440 0h160v-160H620v160Z\"/>\n",
              "  </svg>\n",
              "    </button>\n",
              "\n",
              "  <style>\n",
              "    .colab-df-container {\n",
              "      display:flex;\n",
              "      gap: 12px;\n",
              "    }\n",
              "\n",
              "    .colab-df-convert {\n",
              "      background-color: #E8F0FE;\n",
              "      border: none;\n",
              "      border-radius: 50%;\n",
              "      cursor: pointer;\n",
              "      display: none;\n",
              "      fill: #1967D2;\n",
              "      height: 32px;\n",
              "      padding: 0 0 0 0;\n",
              "      width: 32px;\n",
              "    }\n",
              "\n",
              "    .colab-df-convert:hover {\n",
              "      background-color: #E2EBFA;\n",
              "      box-shadow: 0px 1px 2px rgba(60, 64, 67, 0.3), 0px 1px 3px 1px rgba(60, 64, 67, 0.15);\n",
              "      fill: #174EA6;\n",
              "    }\n",
              "\n",
              "    .colab-df-buttons div {\n",
              "      margin-bottom: 4px;\n",
              "    }\n",
              "\n",
              "    [theme=dark] .colab-df-convert {\n",
              "      background-color: #3B4455;\n",
              "      fill: #D2E3FC;\n",
              "    }\n",
              "\n",
              "    [theme=dark] .colab-df-convert:hover {\n",
              "      background-color: #434B5C;\n",
              "      box-shadow: 0px 1px 3px 1px rgba(0, 0, 0, 0.15);\n",
              "      filter: drop-shadow(0px 1px 2px rgba(0, 0, 0, 0.3));\n",
              "      fill: #FFFFFF;\n",
              "    }\n",
              "  </style>\n",
              "\n",
              "    <script>\n",
              "      const buttonEl =\n",
              "        document.querySelector('#df-ac2ecd76-8a02-4a36-9017-fb51ece84e9a button.colab-df-convert');\n",
              "      buttonEl.style.display =\n",
              "        google.colab.kernel.accessAllowed ? 'block' : 'none';\n",
              "\n",
              "      async function convertToInteractive(key) {\n",
              "        const element = document.querySelector('#df-ac2ecd76-8a02-4a36-9017-fb51ece84e9a');\n",
              "        const dataTable =\n",
              "          await google.colab.kernel.invokeFunction('convertToInteractive',\n",
              "                                                    [key], {});\n",
              "        if (!dataTable) return;\n",
              "\n",
              "        const docLinkHtml = 'Like what you see? Visit the ' +\n",
              "          '<a target=\"_blank\" href=https://colab.research.google.com/notebooks/data_table.ipynb>data table notebook</a>'\n",
              "          + ' to learn more about interactive tables.';\n",
              "        element.innerHTML = '';\n",
              "        dataTable['output_type'] = 'display_data';\n",
              "        await google.colab.output.renderOutput(dataTable, element);\n",
              "        const docLink = document.createElement('div');\n",
              "        docLink.innerHTML = docLinkHtml;\n",
              "        element.appendChild(docLink);\n",
              "      }\n",
              "    </script>\n",
              "  </div>\n",
              "\n",
              "\n",
              "<div id=\"df-ba4398bd-cd6f-4e1d-80fa-e251f0926d32\">\n",
              "  <button class=\"colab-df-quickchart\" onclick=\"quickchart('df-ba4398bd-cd6f-4e1d-80fa-e251f0926d32')\"\n",
              "            title=\"Suggest charts\"\n",
              "            style=\"display:none;\">\n",
              "\n",
              "<svg xmlns=\"http://www.w3.org/2000/svg\" height=\"24px\"viewBox=\"0 0 24 24\"\n",
              "     width=\"24px\">\n",
              "    <g>\n",
              "        <path d=\"M19 3H5c-1.1 0-2 .9-2 2v14c0 1.1.9 2 2 2h14c1.1 0 2-.9 2-2V5c0-1.1-.9-2-2-2zM9 17H7v-7h2v7zm4 0h-2V7h2v10zm4 0h-2v-4h2v4z\"/>\n",
              "    </g>\n",
              "</svg>\n",
              "  </button>\n",
              "\n",
              "<style>\n",
              "  .colab-df-quickchart {\n",
              "      --bg-color: #E8F0FE;\n",
              "      --fill-color: #1967D2;\n",
              "      --hover-bg-color: #E2EBFA;\n",
              "      --hover-fill-color: #174EA6;\n",
              "      --disabled-fill-color: #AAA;\n",
              "      --disabled-bg-color: #DDD;\n",
              "  }\n",
              "\n",
              "  [theme=dark] .colab-df-quickchart {\n",
              "      --bg-color: #3B4455;\n",
              "      --fill-color: #D2E3FC;\n",
              "      --hover-bg-color: #434B5C;\n",
              "      --hover-fill-color: #FFFFFF;\n",
              "      --disabled-bg-color: #3B4455;\n",
              "      --disabled-fill-color: #666;\n",
              "  }\n",
              "\n",
              "  .colab-df-quickchart {\n",
              "    background-color: var(--bg-color);\n",
              "    border: none;\n",
              "    border-radius: 50%;\n",
              "    cursor: pointer;\n",
              "    display: none;\n",
              "    fill: var(--fill-color);\n",
              "    height: 32px;\n",
              "    padding: 0;\n",
              "    width: 32px;\n",
              "  }\n",
              "\n",
              "  .colab-df-quickchart:hover {\n",
              "    background-color: var(--hover-bg-color);\n",
              "    box-shadow: 0 1px 2px rgba(60, 64, 67, 0.3), 0 1px 3px 1px rgba(60, 64, 67, 0.15);\n",
              "    fill: var(--button-hover-fill-color);\n",
              "  }\n",
              "\n",
              "  .colab-df-quickchart-complete:disabled,\n",
              "  .colab-df-quickchart-complete:disabled:hover {\n",
              "    background-color: var(--disabled-bg-color);\n",
              "    fill: var(--disabled-fill-color);\n",
              "    box-shadow: none;\n",
              "  }\n",
              "\n",
              "  .colab-df-spinner {\n",
              "    border: 2px solid var(--fill-color);\n",
              "    border-color: transparent;\n",
              "    border-bottom-color: var(--fill-color);\n",
              "    animation:\n",
              "      spin 1s steps(1) infinite;\n",
              "  }\n",
              "\n",
              "  @keyframes spin {\n",
              "    0% {\n",
              "      border-color: transparent;\n",
              "      border-bottom-color: var(--fill-color);\n",
              "      border-left-color: var(--fill-color);\n",
              "    }\n",
              "    20% {\n",
              "      border-color: transparent;\n",
              "      border-left-color: var(--fill-color);\n",
              "      border-top-color: var(--fill-color);\n",
              "    }\n",
              "    30% {\n",
              "      border-color: transparent;\n",
              "      border-left-color: var(--fill-color);\n",
              "      border-top-color: var(--fill-color);\n",
              "      border-right-color: var(--fill-color);\n",
              "    }\n",
              "    40% {\n",
              "      border-color: transparent;\n",
              "      border-right-color: var(--fill-color);\n",
              "      border-top-color: var(--fill-color);\n",
              "    }\n",
              "    60% {\n",
              "      border-color: transparent;\n",
              "      border-right-color: var(--fill-color);\n",
              "    }\n",
              "    80% {\n",
              "      border-color: transparent;\n",
              "      border-right-color: var(--fill-color);\n",
              "      border-bottom-color: var(--fill-color);\n",
              "    }\n",
              "    90% {\n",
              "      border-color: transparent;\n",
              "      border-bottom-color: var(--fill-color);\n",
              "    }\n",
              "  }\n",
              "</style>\n",
              "\n",
              "  <script>\n",
              "    async function quickchart(key) {\n",
              "      const quickchartButtonEl =\n",
              "        document.querySelector('#' + key + ' button');\n",
              "      quickchartButtonEl.disabled = true;  // To prevent multiple clicks.\n",
              "      quickchartButtonEl.classList.add('colab-df-spinner');\n",
              "      try {\n",
              "        const charts = await google.colab.kernel.invokeFunction(\n",
              "            'suggestCharts', [key], {});\n",
              "      } catch (error) {\n",
              "        console.error('Error during call to suggestCharts:', error);\n",
              "      }\n",
              "      quickchartButtonEl.classList.remove('colab-df-spinner');\n",
              "      quickchartButtonEl.classList.add('colab-df-quickchart-complete');\n",
              "    }\n",
              "    (() => {\n",
              "      let quickchartButtonEl =\n",
              "        document.querySelector('#df-ba4398bd-cd6f-4e1d-80fa-e251f0926d32 button');\n",
              "      quickchartButtonEl.style.display =\n",
              "        google.colab.kernel.accessAllowed ? 'block' : 'none';\n",
              "    })();\n",
              "  </script>\n",
              "</div>\n",
              "    </div>\n",
              "  </div>\n"
            ],
            "application/vnd.google.colaboratory.intrinsic+json": {
              "type": "dataframe",
              "variable_name": "data",
              "summary": "{\n  \"name\": \"data\",\n  \"rows\": 5000,\n  \"fields\": [\n    {\n      \"column\": \"payments\",\n      \"properties\": {\n        \"dtype\": \"number\",\n        \"std\": 103,\n        \"min\": 330,\n        \"max\": 1140,\n        \"num_unique_values\": 75,\n        \"samples\": [\n          660,\n          940,\n          670\n        ],\n        \"semantic_type\": \"\",\n        \"description\": \"\"\n      }\n    },\n    {\n      \"column\": \"email\",\n      \"properties\": {\n        \"dtype\": \"number\",\n        \"std\": 0,\n        \"min\": 0,\n        \"max\": 1,\n        \"num_unique_values\": 2,\n        \"samples\": [\n          0,\n          1\n        ],\n        \"semantic_type\": \"\",\n        \"description\": \"\"\n      }\n    },\n    {\n      \"column\": \"opened\",\n      \"properties\": {\n        \"dtype\": \"number\",\n        \"std\": 0.4457490083395411,\n        \"min\": 0.0,\n        \"max\": 1.0,\n        \"num_unique_values\": 2,\n        \"samples\": [\n          0.0,\n          1.0\n        ],\n        \"semantic_type\": \"\",\n        \"description\": \"\"\n      }\n    },\n    {\n      \"column\": \"agreement\",\n      \"properties\": {\n        \"dtype\": \"number\",\n        \"std\": 0.36738311620270697,\n        \"min\": 0.0,\n        \"max\": 1.0,\n        \"num_unique_values\": 2,\n        \"samples\": [\n          1.0,\n          0.0\n        ],\n        \"semantic_type\": \"\",\n        \"description\": \"\"\n      }\n    },\n    {\n      \"column\": \"credit_limit\",\n      \"properties\": {\n        \"dtype\": \"number\",\n        \"std\": 480.9789958099895,\n        \"min\": 193.6955728358575,\n        \"max\": 3882.178407510086,\n        \"num_unique_values\": 5000,\n        \"samples\": [\n          894.0984562805985,\n          1767.3562935006537\n        ],\n        \"semantic_type\": \"\",\n        \"description\": \"\"\n      }\n    },\n    {\n      \"column\": \"risk_score\",\n      \"properties\": {\n        \"dtype\": \"number\",\n        \"std\": 0.10037634035937809,\n        \"min\": 0.1317843803714987,\n        \"max\": 0.7734586786986704,\n        \"num_unique_values\": 5000,\n        \"samples\": [\n          0.4208623598127676,\n          0.6027133565554289\n        ],\n        \"semantic_type\": \"\",\n        \"description\": \"\"\n      }\n    }\n  ]\n}"
            }
          },
          "metadata": {},
          "execution_count": 25
        }
      ],
      "source": [
        "data = pd.read_csv(DATA_PATH)\n",
        "data.head()"
      ]
    },
    {
      "cell_type": "markdown",
      "id": "d5140d8e",
      "metadata": {
        "id": "d5140d8e"
      },
      "source": [
        "Проведите АВ-тесты, чтобы оценить различие между группами (`email`) по таргету (`payments`), двумя способами: с помощью `ttest_ind` и модели OLS. Сравните результаты и сделайте выводы."
      ]
    },
    {
      "cell_type": "code",
      "execution_count": null,
      "id": "8yxzcEmMsguv",
      "metadata": {
        "id": "8yxzcEmMsguv",
        "colab": {
          "base_uri": "https://localhost:8080/"
        },
        "outputId": "24cfa14a-a3ab-4e78-c72d-cb117584b7dc"
      },
      "outputs": [
        {
          "output_type": "stream",
          "name": "stdout",
          "text": [
            "t-статистика: -0.21\n",
            "p-value: 0.833\n"
          ]
        }
      ],
      "source": [
        "# классический ttest\n",
        "# Анализ с помощью t-теста\n",
        "email_group = data[data['email'] == 1]['payments']\n",
        "no_email_group = data[data['email'] == 0]['payments']\n",
        "\n",
        "t_statistic, p_value = sps.ttest_ind(email_group, no_email_group)\n",
        "print(f\"t-статистика: {t_statistic:.2f}\")\n",
        "print(f\"p-value: {p_value:.3f}\")"
      ]
    },
    {
      "cell_type": "code",
      "execution_count": null,
      "id": "13bd208a",
      "metadata": {
        "id": "13bd208a",
        "colab": {
          "base_uri": "https://localhost:8080/"
        },
        "outputId": "48d61e38-e672-4bb4-85e7-8f6cfa62944d"
      },
      "outputs": [
        {
          "output_type": "stream",
          "name": "stdout",
          "text": [
            "==============================================================================\n",
            "                 coef    std err          t      P>|t|      [0.025      0.975]\n",
            "------------------------------------------------------------------------------\n",
            "Intercept    669.9764      2.061    325.116      0.000     665.937     674.016\n",
            "email         -0.6203      2.941     -0.211      0.833      -6.387       5.146\n",
            "==============================================================================\n"
          ]
        }
      ],
      "source": [
        "model = smf.ols('payments ~ email', data=data).fit() # реализация OLS\n",
        "print(model.summary().tables[1])"
      ]
    },
    {
      "cell_type": "markdown",
      "id": "JR8Y3jniwcDV",
      "metadata": {
        "id": "JR8Y3jniwcDV"
      },
      "source": [
        "**Вывод:** P-value = 0.833 > alpha = 0.05 следовательно отвергнуть нулевую гипотезу не можем"
      ]
    },
    {
      "cell_type": "markdown",
      "id": "facc43e2",
      "metadata": {
        "id": "facc43e2"
      },
      "source": [
        "Обратим внимание на p-value. Что делать? Вернуться к заказчику, поджав хвост, и сказать, что эксперимент безрезультатен и нужно больше данных?\n",
        "\n",
        "Но посмотрим на другие признаки\n",
        "\n",
        "* `credit_limit` &mdash; кредитный лимит клиента до того, как он просрочил платеж;\n",
        "* `risk_score` &mdash; предполагаемый риск для клиента до момента отправки email.\n"
      ]
    },
    {
      "cell_type": "markdown",
      "id": "7a16b32d",
      "metadata": {
        "id": "7a16b32d"
      },
      "source": [
        "Добавьте их в качестве признаков и обучите модель\n"
      ]
    },
    {
      "cell_type": "code",
      "execution_count": null,
      "id": "639af8f4",
      "metadata": {
        "id": "639af8f4",
        "colab": {
          "base_uri": "https://localhost:8080/"
        },
        "outputId": "81ac6327-31e7-4e0c-d920-be1af19b7c45"
      },
      "outputs": [
        {
          "output_type": "stream",
          "name": "stdout",
          "text": [
            "================================================================================\n",
            "                   coef    std err          t      P>|t|      [0.025      0.975]\n",
            "--------------------------------------------------------------------------------\n",
            "Intercept      490.8653      9.715     50.527      0.000     471.820     509.911\n",
            "email            4.4304      2.130      2.080      0.038       0.255       8.606\n",
            "credit_limit     0.1511      0.008     18.833      0.000       0.135       0.167\n",
            "risk_score      -8.0516     38.424     -0.210      0.834     -83.379      67.276\n",
            "================================================================================\n"
          ]
        }
      ],
      "source": [
        "model_2 = smf.ols('payments ~ email + credit_limit + risk_score', data=data).fit() # реализация OLS\n",
        "print(model_2.summary().tables[1])"
      ]
    },
    {
      "cell_type": "markdown",
      "id": "_oygj1Tk5qI0",
      "metadata": {
        "id": "_oygj1Tk5qI0"
      },
      "source": [
        "Заметим, что можно извлечь результаты отдельных тестов, например, проверку гипотезы о незначимости коэффициента перед признаком `email`"
      ]
    },
    {
      "cell_type": "code",
      "execution_count": null,
      "id": "KvVpWT2r6Ch1",
      "metadata": {
        "id": "KvVpWT2r6Ch1",
        "colab": {
          "base_uri": "https://localhost:8080/"
        },
        "outputId": "b15075f1-9b68-42e2-e601-56aca53ecd30"
      },
      "outputs": [
        {
          "output_type": "execute_result",
          "data": {
            "text/plain": [
              "<class 'statsmodels.stats.contrast.ContrastResults'>\n",
              "                             Test for Constraints                             \n",
              "==============================================================================\n",
              "                 coef    std err          t      P>|t|      [0.025      0.975]\n",
              "------------------------------------------------------------------------------\n",
              "c0             4.4304      2.130      2.080      0.038       0.255       8.606\n",
              "=============================================================================="
            ]
          },
          "metadata": {},
          "execution_count": 38
        }
      ],
      "source": [
        "result = model_2.t_test('email = 0')\n",
        "result"
      ]
    },
    {
      "cell_type": "markdown",
      "id": "8ca9bb4e",
      "metadata": {
        "id": "8ca9bb4e"
      },
      "source": [
        "Рассмотренные признаки *могут объяснить разброс значений таргета*, снизив тем самым его дисперсию. Кроме того, они *не влияют* на принадлежность к группе, тем самым не могут внести смещение.\n",
        "\n",
        "**Вывод:**\n",
        "\n",
        "Благодаря такому тесту с учётом нескольких признаков получили p-value, по которому можем отвергнуть нулевую гипотезу для email и credit_limit,  значит статистически они влияют на целевую переменную.\n"
      ]
    },
    {
      "cell_type": "markdown",
      "id": "d82de01a",
      "metadata": {
        "id": "d82de01a"
      },
      "source": [
        "## Статистические свойства линейной регрессии\n",
        "\n",
        "Загрузим датасет с данными по стоимости квартир в Москве (<a href=\"https://raw.githubusercontent.com/bdemeshev/em301/master/datasets/flats_moscow.txt\">источник</a>)."
      ]
    },
    {
      "cell_type": "code",
      "execution_count": null,
      "id": "18d9cbf7",
      "metadata": {
        "colab": {
          "base_uri": "https://localhost:8080/"
        },
        "id": "18d9cbf7",
        "outputId": "5832035f-04f3-4035-eb6b-ab2bacb82df9"
      },
      "outputs": [
        {
          "output_type": "stream",
          "name": "stdout",
          "text": [
            "--2024-11-28 15:56:22--  https://raw.githubusercontent.com/bdemeshev/em301/master/datasets/flats_moscow.txt\n",
            "Resolving raw.githubusercontent.com (raw.githubusercontent.com)... 185.199.109.133, 185.199.111.133, 185.199.110.133, ...\n",
            "Connecting to raw.githubusercontent.com (raw.githubusercontent.com)|185.199.109.133|:443... connected.\n",
            "HTTP request sent, awaiting response... 200 OK\n",
            "Length: 64916 (63K) [text/plain]\n",
            "Saving to: ‘flats_moscow.txt’\n",
            "\n",
            "flats_moscow.txt    100%[===================>]  63.39K  --.-KB/s    in 0.02s   \n",
            "\n",
            "2024-11-28 15:56:23 (2.97 MB/s) - ‘flats_moscow.txt’ saved [64916/64916]\n",
            "\n"
          ]
        }
      ],
      "source": [
        "!wget https://raw.githubusercontent.com/bdemeshev/em301/master/datasets/flats_moscow.txt"
      ]
    },
    {
      "cell_type": "code",
      "execution_count": null,
      "id": "46d1d496",
      "metadata": {
        "ExecuteTime": {
          "end_time": "2022-11-22T15:08:12.381685Z",
          "start_time": "2022-11-22T15:08:12.365772Z"
        },
        "id": "46d1d496",
        "colab": {
          "base_uri": "https://localhost:8080/",
          "height": 206
        },
        "outputId": "746028b8-a335-4c24-a68f-28c4c2ef80ba"
      },
      "outputs": [
        {
          "output_type": "execute_result",
          "data": {
            "text/plain": [
              "   n  price  totsp  livesp  kitsp  dist  metrdist  walk  brick  floor  code\n",
              "0  1     81     58      40    6.0  12.5         7     1      1      1     3\n",
              "1  2     75     44      28    6.0  13.5         7     1      0      1     6\n",
              "2  3    128     70      42    6.0  14.5         3     1      1      1     3\n",
              "3  4     95     61      37    6.0  13.5         7     1      0      1     1\n",
              "4  5    330    104      60   11.0  10.5         7     0      1      1     3"
            ],
            "text/html": [
              "\n",
              "  <div id=\"df-6832fe14-f88e-48fb-b796-189cc89a50a6\" class=\"colab-df-container\">\n",
              "    <div>\n",
              "<style scoped>\n",
              "    .dataframe tbody tr th:only-of-type {\n",
              "        vertical-align: middle;\n",
              "    }\n",
              "\n",
              "    .dataframe tbody tr th {\n",
              "        vertical-align: top;\n",
              "    }\n",
              "\n",
              "    .dataframe thead th {\n",
              "        text-align: right;\n",
              "    }\n",
              "</style>\n",
              "<table border=\"1\" class=\"dataframe\">\n",
              "  <thead>\n",
              "    <tr style=\"text-align: right;\">\n",
              "      <th></th>\n",
              "      <th>n</th>\n",
              "      <th>price</th>\n",
              "      <th>totsp</th>\n",
              "      <th>livesp</th>\n",
              "      <th>kitsp</th>\n",
              "      <th>dist</th>\n",
              "      <th>metrdist</th>\n",
              "      <th>walk</th>\n",
              "      <th>brick</th>\n",
              "      <th>floor</th>\n",
              "      <th>code</th>\n",
              "    </tr>\n",
              "  </thead>\n",
              "  <tbody>\n",
              "    <tr>\n",
              "      <th>0</th>\n",
              "      <td>1</td>\n",
              "      <td>81</td>\n",
              "      <td>58</td>\n",
              "      <td>40</td>\n",
              "      <td>6.0</td>\n",
              "      <td>12.5</td>\n",
              "      <td>7</td>\n",
              "      <td>1</td>\n",
              "      <td>1</td>\n",
              "      <td>1</td>\n",
              "      <td>3</td>\n",
              "    </tr>\n",
              "    <tr>\n",
              "      <th>1</th>\n",
              "      <td>2</td>\n",
              "      <td>75</td>\n",
              "      <td>44</td>\n",
              "      <td>28</td>\n",
              "      <td>6.0</td>\n",
              "      <td>13.5</td>\n",
              "      <td>7</td>\n",
              "      <td>1</td>\n",
              "      <td>0</td>\n",
              "      <td>1</td>\n",
              "      <td>6</td>\n",
              "    </tr>\n",
              "    <tr>\n",
              "      <th>2</th>\n",
              "      <td>3</td>\n",
              "      <td>128</td>\n",
              "      <td>70</td>\n",
              "      <td>42</td>\n",
              "      <td>6.0</td>\n",
              "      <td>14.5</td>\n",
              "      <td>3</td>\n",
              "      <td>1</td>\n",
              "      <td>1</td>\n",
              "      <td>1</td>\n",
              "      <td>3</td>\n",
              "    </tr>\n",
              "    <tr>\n",
              "      <th>3</th>\n",
              "      <td>4</td>\n",
              "      <td>95</td>\n",
              "      <td>61</td>\n",
              "      <td>37</td>\n",
              "      <td>6.0</td>\n",
              "      <td>13.5</td>\n",
              "      <td>7</td>\n",
              "      <td>1</td>\n",
              "      <td>0</td>\n",
              "      <td>1</td>\n",
              "      <td>1</td>\n",
              "    </tr>\n",
              "    <tr>\n",
              "      <th>4</th>\n",
              "      <td>5</td>\n",
              "      <td>330</td>\n",
              "      <td>104</td>\n",
              "      <td>60</td>\n",
              "      <td>11.0</td>\n",
              "      <td>10.5</td>\n",
              "      <td>7</td>\n",
              "      <td>0</td>\n",
              "      <td>1</td>\n",
              "      <td>1</td>\n",
              "      <td>3</td>\n",
              "    </tr>\n",
              "  </tbody>\n",
              "</table>\n",
              "</div>\n",
              "    <div class=\"colab-df-buttons\">\n",
              "\n",
              "  <div class=\"colab-df-container\">\n",
              "    <button class=\"colab-df-convert\" onclick=\"convertToInteractive('df-6832fe14-f88e-48fb-b796-189cc89a50a6')\"\n",
              "            title=\"Convert this dataframe to an interactive table.\"\n",
              "            style=\"display:none;\">\n",
              "\n",
              "  <svg xmlns=\"http://www.w3.org/2000/svg\" height=\"24px\" viewBox=\"0 -960 960 960\">\n",
              "    <path d=\"M120-120v-720h720v720H120Zm60-500h600v-160H180v160Zm220 220h160v-160H400v160Zm0 220h160v-160H400v160ZM180-400h160v-160H180v160Zm440 0h160v-160H620v160ZM180-180h160v-160H180v160Zm440 0h160v-160H620v160Z\"/>\n",
              "  </svg>\n",
              "    </button>\n",
              "\n",
              "  <style>\n",
              "    .colab-df-container {\n",
              "      display:flex;\n",
              "      gap: 12px;\n",
              "    }\n",
              "\n",
              "    .colab-df-convert {\n",
              "      background-color: #E8F0FE;\n",
              "      border: none;\n",
              "      border-radius: 50%;\n",
              "      cursor: pointer;\n",
              "      display: none;\n",
              "      fill: #1967D2;\n",
              "      height: 32px;\n",
              "      padding: 0 0 0 0;\n",
              "      width: 32px;\n",
              "    }\n",
              "\n",
              "    .colab-df-convert:hover {\n",
              "      background-color: #E2EBFA;\n",
              "      box-shadow: 0px 1px 2px rgba(60, 64, 67, 0.3), 0px 1px 3px 1px rgba(60, 64, 67, 0.15);\n",
              "      fill: #174EA6;\n",
              "    }\n",
              "\n",
              "    .colab-df-buttons div {\n",
              "      margin-bottom: 4px;\n",
              "    }\n",
              "\n",
              "    [theme=dark] .colab-df-convert {\n",
              "      background-color: #3B4455;\n",
              "      fill: #D2E3FC;\n",
              "    }\n",
              "\n",
              "    [theme=dark] .colab-df-convert:hover {\n",
              "      background-color: #434B5C;\n",
              "      box-shadow: 0px 1px 3px 1px rgba(0, 0, 0, 0.15);\n",
              "      filter: drop-shadow(0px 1px 2px rgba(0, 0, 0, 0.3));\n",
              "      fill: #FFFFFF;\n",
              "    }\n",
              "  </style>\n",
              "\n",
              "    <script>\n",
              "      const buttonEl =\n",
              "        document.querySelector('#df-6832fe14-f88e-48fb-b796-189cc89a50a6 button.colab-df-convert');\n",
              "      buttonEl.style.display =\n",
              "        google.colab.kernel.accessAllowed ? 'block' : 'none';\n",
              "\n",
              "      async function convertToInteractive(key) {\n",
              "        const element = document.querySelector('#df-6832fe14-f88e-48fb-b796-189cc89a50a6');\n",
              "        const dataTable =\n",
              "          await google.colab.kernel.invokeFunction('convertToInteractive',\n",
              "                                                    [key], {});\n",
              "        if (!dataTable) return;\n",
              "\n",
              "        const docLinkHtml = 'Like what you see? Visit the ' +\n",
              "          '<a target=\"_blank\" href=https://colab.research.google.com/notebooks/data_table.ipynb>data table notebook</a>'\n",
              "          + ' to learn more about interactive tables.';\n",
              "        element.innerHTML = '';\n",
              "        dataTable['output_type'] = 'display_data';\n",
              "        await google.colab.output.renderOutput(dataTable, element);\n",
              "        const docLink = document.createElement('div');\n",
              "        docLink.innerHTML = docLinkHtml;\n",
              "        element.appendChild(docLink);\n",
              "      }\n",
              "    </script>\n",
              "  </div>\n",
              "\n",
              "\n",
              "<div id=\"df-ca240e97-b17a-4e09-8152-db6e15e69646\">\n",
              "  <button class=\"colab-df-quickchart\" onclick=\"quickchart('df-ca240e97-b17a-4e09-8152-db6e15e69646')\"\n",
              "            title=\"Suggest charts\"\n",
              "            style=\"display:none;\">\n",
              "\n",
              "<svg xmlns=\"http://www.w3.org/2000/svg\" height=\"24px\"viewBox=\"0 0 24 24\"\n",
              "     width=\"24px\">\n",
              "    <g>\n",
              "        <path d=\"M19 3H5c-1.1 0-2 .9-2 2v14c0 1.1.9 2 2 2h14c1.1 0 2-.9 2-2V5c0-1.1-.9-2-2-2zM9 17H7v-7h2v7zm4 0h-2V7h2v10zm4 0h-2v-4h2v4z\"/>\n",
              "    </g>\n",
              "</svg>\n",
              "  </button>\n",
              "\n",
              "<style>\n",
              "  .colab-df-quickchart {\n",
              "      --bg-color: #E8F0FE;\n",
              "      --fill-color: #1967D2;\n",
              "      --hover-bg-color: #E2EBFA;\n",
              "      --hover-fill-color: #174EA6;\n",
              "      --disabled-fill-color: #AAA;\n",
              "      --disabled-bg-color: #DDD;\n",
              "  }\n",
              "\n",
              "  [theme=dark] .colab-df-quickchart {\n",
              "      --bg-color: #3B4455;\n",
              "      --fill-color: #D2E3FC;\n",
              "      --hover-bg-color: #434B5C;\n",
              "      --hover-fill-color: #FFFFFF;\n",
              "      --disabled-bg-color: #3B4455;\n",
              "      --disabled-fill-color: #666;\n",
              "  }\n",
              "\n",
              "  .colab-df-quickchart {\n",
              "    background-color: var(--bg-color);\n",
              "    border: none;\n",
              "    border-radius: 50%;\n",
              "    cursor: pointer;\n",
              "    display: none;\n",
              "    fill: var(--fill-color);\n",
              "    height: 32px;\n",
              "    padding: 0;\n",
              "    width: 32px;\n",
              "  }\n",
              "\n",
              "  .colab-df-quickchart:hover {\n",
              "    background-color: var(--hover-bg-color);\n",
              "    box-shadow: 0 1px 2px rgba(60, 64, 67, 0.3), 0 1px 3px 1px rgba(60, 64, 67, 0.15);\n",
              "    fill: var(--button-hover-fill-color);\n",
              "  }\n",
              "\n",
              "  .colab-df-quickchart-complete:disabled,\n",
              "  .colab-df-quickchart-complete:disabled:hover {\n",
              "    background-color: var(--disabled-bg-color);\n",
              "    fill: var(--disabled-fill-color);\n",
              "    box-shadow: none;\n",
              "  }\n",
              "\n",
              "  .colab-df-spinner {\n",
              "    border: 2px solid var(--fill-color);\n",
              "    border-color: transparent;\n",
              "    border-bottom-color: var(--fill-color);\n",
              "    animation:\n",
              "      spin 1s steps(1) infinite;\n",
              "  }\n",
              "\n",
              "  @keyframes spin {\n",
              "    0% {\n",
              "      border-color: transparent;\n",
              "      border-bottom-color: var(--fill-color);\n",
              "      border-left-color: var(--fill-color);\n",
              "    }\n",
              "    20% {\n",
              "      border-color: transparent;\n",
              "      border-left-color: var(--fill-color);\n",
              "      border-top-color: var(--fill-color);\n",
              "    }\n",
              "    30% {\n",
              "      border-color: transparent;\n",
              "      border-left-color: var(--fill-color);\n",
              "      border-top-color: var(--fill-color);\n",
              "      border-right-color: var(--fill-color);\n",
              "    }\n",
              "    40% {\n",
              "      border-color: transparent;\n",
              "      border-right-color: var(--fill-color);\n",
              "      border-top-color: var(--fill-color);\n",
              "    }\n",
              "    60% {\n",
              "      border-color: transparent;\n",
              "      border-right-color: var(--fill-color);\n",
              "    }\n",
              "    80% {\n",
              "      border-color: transparent;\n",
              "      border-right-color: var(--fill-color);\n",
              "      border-bottom-color: var(--fill-color);\n",
              "    }\n",
              "    90% {\n",
              "      border-color: transparent;\n",
              "      border-bottom-color: var(--fill-color);\n",
              "    }\n",
              "  }\n",
              "</style>\n",
              "\n",
              "  <script>\n",
              "    async function quickchart(key) {\n",
              "      const quickchartButtonEl =\n",
              "        document.querySelector('#' + key + ' button');\n",
              "      quickchartButtonEl.disabled = true;  // To prevent multiple clicks.\n",
              "      quickchartButtonEl.classList.add('colab-df-spinner');\n",
              "      try {\n",
              "        const charts = await google.colab.kernel.invokeFunction(\n",
              "            'suggestCharts', [key], {});\n",
              "      } catch (error) {\n",
              "        console.error('Error during call to suggestCharts:', error);\n",
              "      }\n",
              "      quickchartButtonEl.classList.remove('colab-df-spinner');\n",
              "      quickchartButtonEl.classList.add('colab-df-quickchart-complete');\n",
              "    }\n",
              "    (() => {\n",
              "      let quickchartButtonEl =\n",
              "        document.querySelector('#df-ca240e97-b17a-4e09-8152-db6e15e69646 button');\n",
              "      quickchartButtonEl.style.display =\n",
              "        google.colab.kernel.accessAllowed ? 'block' : 'none';\n",
              "    })();\n",
              "  </script>\n",
              "</div>\n",
              "    </div>\n",
              "  </div>\n"
            ],
            "application/vnd.google.colaboratory.intrinsic+json": {
              "type": "dataframe",
              "variable_name": "flats",
              "summary": "{\n  \"name\": \"flats\",\n  \"rows\": 2040,\n  \"fields\": [\n    {\n      \"column\": \"n\",\n      \"properties\": {\n        \"dtype\": \"number\",\n        \"std\": 589,\n        \"min\": 1,\n        \"max\": 2040,\n        \"num_unique_values\": 2040,\n        \"samples\": [\n          1317,\n          1001,\n          1069\n        ],\n        \"semantic_type\": \"\",\n        \"description\": \"\"\n      }\n    },\n    {\n      \"column\": \"price\",\n      \"properties\": {\n        \"dtype\": \"number\",\n        \"std\": 51,\n        \"min\": 50,\n        \"max\": 730,\n        \"num_unique_values\": 180,\n        \"samples\": [\n          125,\n          180,\n          309\n        ],\n        \"semantic_type\": \"\",\n        \"description\": \"\"\n      }\n    },\n    {\n      \"column\": \"totsp\",\n      \"properties\": {\n        \"dtype\": \"number\",\n        \"std\": 15,\n        \"min\": 44,\n        \"max\": 192,\n        \"num_unique_values\": 91,\n        \"samples\": [\n          53,\n          92,\n          101\n        ],\n        \"semantic_type\": \"\",\n        \"description\": \"\"\n      }\n    },\n    {\n      \"column\": \"livesp\",\n      \"properties\": {\n        \"dtype\": \"number\",\n        \"std\": 7,\n        \"min\": 28,\n        \"max\": 102,\n        \"num_unique_values\": 58,\n        \"samples\": [\n          40,\n          50,\n          74\n        ],\n        \"semantic_type\": \"\",\n        \"description\": \"\"\n      }\n    },\n    {\n      \"column\": \"kitsp\",\n      \"properties\": {\n        \"dtype\": \"number\",\n        \"std\": 2.787073045152758,\n        \"min\": 5.0,\n        \"max\": 25.0,\n        \"num_unique_values\": 22,\n        \"samples\": [\n          6.0,\n          5.0,\n          14.0\n        ],\n        \"semantic_type\": \"\",\n        \"description\": \"\"\n      }\n    },\n    {\n      \"column\": \"dist\",\n      \"properties\": {\n        \"dtype\": \"number\",\n        \"std\": 3.375538613531841,\n        \"min\": 3.0,\n        \"max\": 17.0,\n        \"num_unique_values\": 22,\n        \"samples\": [\n          12.5,\n          7.0,\n          3.5\n        ],\n        \"semantic_type\": \"\",\n        \"description\": \"\"\n      }\n    },\n    {\n      \"column\": \"metrdist\",\n      \"properties\": {\n        \"dtype\": \"number\",\n        \"std\": 3,\n        \"min\": 1,\n        \"max\": 20,\n        \"num_unique_values\": 14,\n        \"samples\": [\n          6,\n          12,\n          7\n        ],\n        \"semantic_type\": \"\",\n        \"description\": \"\"\n      }\n    },\n    {\n      \"column\": \"walk\",\n      \"properties\": {\n        \"dtype\": \"number\",\n        \"std\": 0,\n        \"min\": 0,\n        \"max\": 1,\n        \"num_unique_values\": 2,\n        \"samples\": [\n          0,\n          1\n        ],\n        \"semantic_type\": \"\",\n        \"description\": \"\"\n      }\n    },\n    {\n      \"column\": \"brick\",\n      \"properties\": {\n        \"dtype\": \"number\",\n        \"std\": 0,\n        \"min\": 0,\n        \"max\": 1,\n        \"num_unique_values\": 2,\n        \"samples\": [\n          0,\n          1\n        ],\n        \"semantic_type\": \"\",\n        \"description\": \"\"\n      }\n    },\n    {\n      \"column\": \"floor\",\n      \"properties\": {\n        \"dtype\": \"number\",\n        \"std\": 0,\n        \"min\": 0,\n        \"max\": 1,\n        \"num_unique_values\": 2,\n        \"samples\": [\n          0,\n          1\n        ],\n        \"semantic_type\": \"\",\n        \"description\": \"\"\n      }\n    },\n    {\n      \"column\": \"code\",\n      \"properties\": {\n        \"dtype\": \"number\",\n        \"std\": 2,\n        \"min\": 1,\n        \"max\": 8,\n        \"num_unique_values\": 8,\n        \"samples\": [\n          6,\n          5\n        ],\n        \"semantic_type\": \"\",\n        \"description\": \"\"\n      }\n    }\n  ]\n}"
            }
          },
          "metadata": {},
          "execution_count": 40
        }
      ],
      "source": [
        "flats = pd.read_csv(\"flats_moscow.txt\", sep='\\t')\n",
        "flats.head()"
      ]
    },
    {
      "cell_type": "markdown",
      "id": "b94cdabc",
      "metadata": {
        "id": "b94cdabc"
      },
      "source": [
        "Будем рассматривать зависимость цены квартиры от ее площади."
      ]
    },
    {
      "cell_type": "markdown",
      "id": "6e89e6a4",
      "metadata": {
        "id": "6e89e6a4"
      },
      "source": [
        "### 1. Обучение простой линейной модели\n",
        "\n",
        "Сначала обучим линейную регрессию `OLS` предсказания стоимости квартиры по ее площади по аналогии с предыдущими пунктами."
      ]
    },
    {
      "cell_type": "code",
      "execution_count": null,
      "id": "b395bd6a",
      "metadata": {
        "ExecuteTime": {
          "end_time": "2022-11-22T15:08:12.593585Z",
          "start_time": "2022-11-22T15:08:12.580390Z"
        },
        "id": "b395bd6a"
      },
      "outputs": [],
      "source": [
        "model_flat = smf.ols('price\t ~ totsp', data=flats).fit() # реализация OLS"
      ]
    },
    {
      "cell_type": "markdown",
      "id": "604ed614",
      "metadata": {
        "id": "604ed614"
      },
      "source": [
        "Посмотрим на результаты модели, полученные **в предположении гомоскедастичности**."
      ]
    },
    {
      "cell_type": "code",
      "execution_count": null,
      "id": "5527a375",
      "metadata": {
        "ExecuteTime": {
          "end_time": "2022-11-22T15:08:12.605748Z",
          "start_time": "2022-11-22T15:08:12.595106Z"
        },
        "id": "5527a375",
        "colab": {
          "base_uri": "https://localhost:8080/"
        },
        "outputId": "26fd9c48-2b39-45eb-9af6-fe26bd7601be"
      },
      "outputs": [
        {
          "output_type": "stream",
          "name": "stdout",
          "text": [
            "                            OLS Regression Results                            \n",
            "==============================================================================\n",
            "Dep. Variable:                  price   R-squared:                       0.572\n",
            "Model:                            OLS   Adj. R-squared:                  0.571\n",
            "Method:                 Least Squares   F-statistic:                     2719.\n",
            "Date:                Thu, 28 Nov 2024   Prob (F-statistic):               0.00\n",
            "Time:                        16:07:03   Log-Likelihood:                -10085.\n",
            "No. Observations:                2040   AIC:                         2.017e+04\n",
            "Df Residuals:                    2038   BIC:                         2.019e+04\n",
            "Df Model:                           1                                         \n",
            "Covariance Type:            nonrobust                                         \n",
            "==============================================================================\n",
            "                 coef    std err          t      P>|t|      [0.025      0.975]\n",
            "------------------------------------------------------------------------------\n",
            "Intercept    -62.0448      3.712    -16.716      0.000     -69.324     -54.766\n",
            "totsp          2.5935      0.050     52.146      0.000       2.496       2.691\n",
            "==============================================================================\n",
            "Omnibus:                     1357.794   Durbin-Watson:                   2.001\n",
            "Prob(Omnibus):                  0.000   Jarque-Bera (JB):            41468.085\n",
            "Skew:                           2.673   Prob(JB):                         0.00\n",
            "Kurtosis:                      24.431   Cond. No.                         368.\n",
            "==============================================================================\n",
            "\n",
            "Notes:\n",
            "[1] Standard Errors assume that the covariance matrix of the errors is correctly specified.\n"
          ]
        }
      ],
      "source": [
        "print(model_flat.summary())"
      ]
    },
    {
      "cell_type": "markdown",
      "id": "69de10ab",
      "metadata": {
        "id": "69de10ab"
      },
      "source": [
        "Можно извлечь результаты отдельных тестов, например, проверка гипотезы о незначимости коэффициента перед признаком `totsp`."
      ]
    },
    {
      "cell_type": "code",
      "execution_count": null,
      "id": "ba76cdcd",
      "metadata": {
        "ExecuteTime": {
          "end_time": "2022-11-22T15:08:12.620849Z",
          "start_time": "2022-11-22T15:08:12.612010Z"
        },
        "id": "ba76cdcd",
        "colab": {
          "base_uri": "https://localhost:8080/"
        },
        "outputId": "3e31855f-42bf-4d27-8533-13a9599a619e"
      },
      "outputs": [
        {
          "output_type": "execute_result",
          "data": {
            "text/plain": [
              "<class 'statsmodels.stats.contrast.ContrastResults'>\n",
              "                             Test for Constraints                             \n",
              "==============================================================================\n",
              "                 coef    std err          t      P>|t|      [0.025      0.975]\n",
              "------------------------------------------------------------------------------\n",
              "c0             2.5935      0.050     52.146      0.000       2.496       2.691\n",
              "=============================================================================="
            ]
          },
          "metadata": {},
          "execution_count": 44
        }
      ],
      "source": [
        "result = model_flat.t_test('totsp = 0')\n",
        "result"
      ]
    },
    {
      "cell_type": "markdown",
      "id": "3133feba",
      "metadata": {
        "id": "3133feba"
      },
      "source": [
        "Посмотрите, как зависят стюдентизированные остатки обученной модели (посмотрите функцию `outlier_test()`) от общей площади квартиры"
      ]
    },
    {
      "cell_type": "code",
      "execution_count": null,
      "id": "19200618",
      "metadata": {
        "ExecuteTime": {
          "end_time": "2022-11-22T15:08:12.578657Z",
          "start_time": "2022-11-22T15:08:12.383366Z"
        },
        "id": "19200618",
        "colab": {
          "base_uri": "https://localhost:8080/",
          "height": 569
        },
        "outputId": "fa373925-2c63-4f86-c173-7cfddbbe2604"
      },
      "outputs": [
        {
          "output_type": "display_data",
          "data": {
            "text/plain": [
              "<Figure size 1200x600 with 1 Axes>"
            ],
            "image/png": "[encoded data removed]"
          },
          "metadata": {}
        }
      ],
      "source": [
        "plt.figure(figsize=(12, 6))\n",
        "plt.scatter(flats['totsp'], model_flat.outlier_test()['student_resid'], alpha=0.4)\n",
        "plt.title('Стоимость квартир в Москве')\n",
        "plt.xlabel('Общая площадь квартиры, кв.м')\n",
        "plt.ylabel('Цена квартиры, $1000 (остатки модели)');"
      ]
    },
    {
      "cell_type": "markdown",
      "id": "l_Gek1vY8arv",
      "metadata": {
        "id": "l_Gek1vY8arv"
      },
      "source": [
        "По графику явно видна гетероскедастичность.\n",
        "\n",
        "*Примечание.* Если **хотя бы по одному** признаку, используемому в модели, видна разная дисперсия остатков, то имеет смысл говорить о гетероскедастичности."
      ]
    },
    {
      "cell_type": "markdown",
      "id": "3f6ac1b4",
      "metadata": {
        "id": "3f6ac1b4"
      },
      "source": [
        "### 2. Использование устойчивых оценок дисперсии\n",
        "\n",
        "*При наличии подозрений на гетероскедастичность рекомендуется сразу использовать устойчивые оценки дисперсии, не применяя проверку на гетероскедастичность стат. критериями. Критерии также имеют свои ошибки, и последовательное применение нескольких критериев может суммировать вероятности ошибок.*\n",
        "\n",
        "Получите оценку ковариационной матрицы вектора $\\widehat{\\theta}$ в условиях гетероскедастичности. Возьмите `cov_type=\"HC3\"` у метода `fit` модели и посмотрите на результат. Интерпретация значений в таблицах аналогична, см. пояснения выше."
      ]
    },
    {
      "cell_type": "code",
      "execution_count": null,
      "id": "5e037a62",
      "metadata": {
        "ExecuteTime": {
          "end_time": "2022-11-22T15:08:12.726674Z",
          "start_time": "2022-11-22T15:08:12.713015Z"
        },
        "id": "5e037a62",
        "colab": {
          "base_uri": "https://localhost:8080/"
        },
        "outputId": "c80abc87-7c8a-48d7-e233-d4af3cdce78e"
      },
      "outputs": [
        {
          "output_type": "stream",
          "name": "stdout",
          "text": [
            "                            OLS Regression Results                            \n",
            "==============================================================================\n",
            "Dep. Variable:                  price   R-squared:                       0.572\n",
            "Model:                            OLS   Adj. R-squared:                  0.571\n",
            "Method:                 Least Squares   F-statistic:                     516.0\n",
            "Date:                Thu, 28 Nov 2024   Prob (F-statistic):          5.24e-102\n",
            "Time:                        16:22:56   Log-Likelihood:                -10085.\n",
            "No. Observations:                2040   AIC:                         2.017e+04\n",
            "Df Residuals:                    2038   BIC:                         2.019e+04\n",
            "Df Model:                           1                                         \n",
            "Covariance Type:                  HC3                                         \n",
            "==============================================================================\n",
            "                 coef    std err          z      P>|z|      [0.025      0.975]\n",
            "------------------------------------------------------------------------------\n",
            "Intercept    -62.0448      7.859     -7.895      0.000     -77.449     -46.641\n",
            "totsp          2.5935      0.114     22.715      0.000       2.370       2.817\n",
            "==============================================================================\n",
            "Omnibus:                     1357.794   Durbin-Watson:                   2.001\n",
            "Prob(Omnibus):                  0.000   Jarque-Bera (JB):            41468.085\n",
            "Skew:                           2.673   Prob(JB):                         0.00\n",
            "Kurtosis:                      24.431   Cond. No.                         368.\n",
            "==============================================================================\n",
            "\n",
            "Notes:\n",
            "[1] Standard Errors are heteroscedasticity robust (HC3)\n"
          ]
        }
      ],
      "source": [
        "model_flat_2 = smf.ols('price ~ totsp', data=flats).fit(cov_type='HC3')\n",
        "print(model_flat_2.summary())"
      ]
    },
    {
      "cell_type": "markdown",
      "id": "xXseZPNr_W8y",
      "metadata": {
        "id": "xXseZPNr_W8y"
      },
      "source": [
        "**Вопрос:** Что изменилось при использовании поправки на гетероскедатичность?\n",
        "\n",
        "**Ответ:**\n",
        "\n",
        "После поправки на гетероскедатичность уменьшилось p-value и статистика, что логично, так как не учитывая этот фактор мы зачастую занижаем p-value."
      ]
    },
    {
      "cell_type": "code",
      "source": [],
      "metadata": {
        "id": "7zwJhqYWn2q9"
      },
      "id": "7zwJhqYWn2q9",
      "execution_count": null,
      "outputs": []
    }
  ],
  "metadata": {
    "colab": {
      "collapsed_sections": [
        "w0MZWjUyhwBa",
        "ffa211ba",
        "49ebc570",
        "3b18b5be",
        "db12007b",
        "6e89e6a4",
        "34bda7bc",
        "3f6ac1b4",
        "35a83b31"
      ],
      "provenance": []
    },
    "kernelspec": {
      "display_name": "Python 3 (ipykernel)",
      "language": "python",
      "name": "python3"
    },
    "language_info": {
      "codemirror_mode": {
        "name": "ipython",
        "version": 3
      },
      "file_extension": ".py",
      "mimetype": "text/x-python",
      "name": "python",
      "nbconvert_exporter": "python",
      "pygments_lexer": "ipython3",
      "version": "3.10.9"
    }
  },
  "nbformat": 4,
  "nbformat_minor": 5
}