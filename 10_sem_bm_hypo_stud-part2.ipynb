{
 "cells": [
  {
   "cell_type": "markdown",
   "id": "85024f72-80ea-4295-8fcb-2c708f411f22",
   "metadata": {},
   "source": [
    "# <a href=\"https://thetahat.ru/courses/bm-2024-aut\">Cтатистика ФБМФ </a>"
   ]
  },
  {
   "cell_type": "markdown",
   "id": "46c472b9-6bde-4e94-bb5e-7782f5d38f39",
   "metadata": {},
   "source": [
    "## Семинар 10"
   ]
  },
  {
   "cell_type": "code",
   "execution_count": 3,
   "id": "b7695342-7819-4a46-8d49-15489dd2f5a6",
   "metadata": {},
   "outputs": [],
   "source": [
    "# Bot check\n",
    "\n",
    "# HW_ID: st_sem10\n",
    "# Бот проверит этот ID и предупредит, если случайно сдать что-то не то.\n",
    "\n",
    "# Status: final\n",
    "# Перед отправкой в финальном решении удали \"not\" в строчке выше.\n",
    "# Так бот проверит, что ты отправляешь финальную версию, а не промежуточную.\n",
    "# Никакие значения в этой ячейке не влияют на факт сдачи работы."
   ]
  },
  {
   "cell_type": "code",
   "execution_count": 4,
   "id": "d8af42d7",
   "metadata": {},
   "outputs": [],
   "source": [
    "import numpy as np\n",
    "import random\n",
    "import scipy.stats as sps\n",
    "import pandas as pd\n",
    "\n",
    "import matplotlib.pyplot as plt\n",
    "import seaborn as sns\n",
    "sns.set(font_scale=1.8)"
   ]
  },
  {
   "cell_type": "code",
   "execution_count": 7,
   "id": "a33f628e",
   "metadata": {},
   "outputs": [],
   "source": [
    "# зафиксируем сид для воспроизводимости генерации\n",
    "SEED = 42\n",
    "np.random.seed(SEED)\n",
    "random.seed(SEED)"
   ]
  },
  {
   "cell_type": "markdown",
   "id": "b68a7039",
   "metadata": {},
   "source": [
    "# Проверка гипотез"
   ]
  },
  {
   "cell_type": "markdown",
   "id": "66ac3909-afea-45f5-b0b7-e5ae7139c4b7",
   "metadata": {},
   "source": [
    "В этом задании мы продолжим работать с критерием, которой мы ввели в предыдущем семинаре для проверки гипотезы $\\mathsf{H}_0\\colon \\theta = 0$ vs. $\\mathsf{H}_1\\colon \\theta \\neq 0$:\n",
    "$$S=\\left\\{ 0 \\notin \\left(\\overline{X} - \\frac{z_{\\frac{1+\\alpha_{int}}{2}}}{\\sqrt{n}}, \\overline{X} + \\frac{z_{\\frac{1+\\alpha_{int}}{2}}}{\\sqrt{n}}\\right)\\right\\}$$\n",
    "\n",
    "\n",
    "где $ \\alpha_{int} = 0.95 $\n",
    "\n",
    "Таким образом, при получении выборки $X$ проверка $\\mathsf{H}_0$ выглядит следующим образом:\n",
    "\n",
    "$$X \\in S  \\Leftrightarrow\t\\text{0 НЕ лежит в построенном доверительном интервале} \\Leftrightarrow \\mathsf{H}_0 \\text{ отвергается}$$\n",
    "$$X \\notin S  \\Leftrightarrow\t\\text{0 лежит в построенном доверительном интервале} \\Leftrightarrow \\mathsf{H}_0 \\text{ НЕ отвергается}$$\n"
   ]
  },
  {
   "cell_type": "markdown",
   "id": "c158dfe5",
   "metadata": {},
   "source": [
    "## P-value\n",
    "\n",
    "На лекции вы узнали про p-value &mdash; это минимальный уровень значимости, при котором гипотеза еще может быть отвергнута:\n",
    "\n",
    "$$pvalue = min\\left\\{ \\alpha| X \\in S\\right\\}$$\n",
    "\n",
    "В нашем случае можно формула принимает следующий вид:\n",
    "$$pvalue = min\\left\\{ \\alpha\\:\\bigg|\\:0 \\notin \\left(\\overline{X} - \\frac{z_{1-\\frac{\\alpha}{2}}}{\\sqrt{n}}, \\overline{X} + \\frac{z_{1-\\frac{\\alpha}{2}}}{\\sqrt{n}}\\right)\\right\\}$$"
   ]
  },
  {
   "cell_type": "markdown",
   "id": "b4f10ece",
   "metadata": {},
   "source": [
    "Для имеющейся выборки постройте график факта отвержения нулевой гипотезы нашим критерием в зависимости от уровня значимости $\\alpha \\in (0, 1)$."
   ]
  },
  {
   "cell_type": "code",
   "execution_count": 74,
   "id": "2d4ae8e4",
   "metadata": {},
   "outputs": [],
   "source": [
    "def criterion(sample, alpha=0.05):\n",
    "    \"\"\"\n",
    "    Функция определяющая факт отвержения гипотезы\n",
    "\n",
    "    :param sample: выборка\n",
    "    :return: 0, если гипотеза была отвергнута, 1 - в противном случае\n",
    "    \"\"\"\n",
    "    n = len(sample)\n",
    "    z = sps.norm.ppf(1 - alpha/2)\n",
    "    \n",
    "    # посчитайте оценки параметров по имеющейся выборке\n",
    "    theta_hat = np.mean(sample)\n",
    "    sigma_hat = np.std(sample)\n",
    "    \n",
    "    # постройте доверительный интервал и выведите его\n",
    "    if (theta_hat - (z*sigma_hat)/np.sqrt(n)) < 0 and 0 <(theta_hat + (z*sigma_hat)/np.sqrt(n)):\n",
    "        return 1\n",
    "    return 0"
   ]
  },
  {
   "cell_type": "code",
   "execution_count": 76,
   "id": "01a57b1a",
   "metadata": {},
   "outputs": [
    {
     "data": {
      "text/plain": [
       "[<matplotlib.lines.Line2D at 0x1808f469100>]"
      ]
     },
     "execution_count": 76,
     "metadata": {},
     "output_type": "execute_result"
    },
    {
     "data": {
      "image/png": "[encoded data removed]",
      "text/plain": [
       "<Figure size 640x480 with 1 Axes>"
      ]
     },
     "metadata": {},
     "output_type": "display_data"
    }
   ],
   "source": [
    "sample = [ 0.12452627,  0.95075805,  0.77166076, -1.45365582, -0.49410224,\n",
    "          1.66660296, -0.93194618, -0.42985368,  0.27260541,  1.46066343,\n",
    "          -1.31198164,  0.20520295,  3.19213611,  0.55957285,  0.50613194,\n",
    "          0.05689217, -0.8558408 ,  0.12584525,  0.73918692, -0.05739113,\n",
    "          0.76803961,  0.32823556,  0.05156772, -0.0566054 ,  0.60217298,\n",
    "          2.21606323, -1.02851902, -0.56797192, -0.64263642,  0.95315636]\n",
    "\n",
    "# Задаем сетку параметров alpha\n",
    "alphas = np.linspace(0, 1, 2000)\n",
    "\n",
    "# Создаем массив, в который будет записывать результат проверки гипотезы в зависимости от alpha\n",
    "is_rejected = []\n",
    "for alpha in alphas:\n",
    "  is_rejected.append(criterion(sample, alpha))\n",
    "\n",
    "plt.plot(alphas, is_rejected)"
   ]
  },
  {
   "cell_type": "markdown",
   "id": "e508146d",
   "metadata": {},
   "source": [
    "Выведите полученное значение p-value."
   ]
  },
  {
   "cell_type": "code",
   "execution_count": 78,
   "id": "d30f5653",
   "metadata": {},
   "outputs": [
    {
     "name": "stdout",
     "output_type": "stream",
     "text": [
      "0.16208104052026012\n"
     ]
    }
   ],
   "source": [
    "is_rejected = []\n",
    "for alpha in alphas:\n",
    "  if criterion(sample, alpha) == 0:\n",
    "      print(alpha)\n",
    "      break"
   ]
  },
  {
   "cell_type": "markdown",
   "id": "5d2cd160",
   "metadata": {},
   "source": [
    "# Критерий Вальда\n",
    "\n",
    "Вы провели эксперимент и получили данные из экспоненциального распределения. "
   ]
  },
  {
   "cell_type": "code",
   "execution_count": 99,
   "id": "288bb6c8",
   "metadata": {},
   "outputs": [],
   "source": [
    "sample = [0.11731702, 0.75253036, 0.32918642, 0.22823564, 0.04240622,\n",
    "          0.04239907, 0.01495969, 0.50280772, 0.22977054, 0.30781252,\n",
    "          0.00519983, 0.87588937, 0.44660739, 0.05967191, 0.05016975,\n",
    "          0.05065286, 0.09068843, 0.18598196, 0.14138427, 0.08605575,\n",
    "          0.23659272, 0.03755863, 0.08637888, 0.1140693 , 0.15223367,\n",
    "          0.384484  , 0.05568397, 0.18050729, 0.22437618, 0.01189096]"
   ]
  },
  {
   "cell_type": "markdown",
   "id": "3750724e",
   "metadata": {},
   "source": [
    "Вы хотите проверить, является ли это распределение с параметром $\\lambda=2$. Используя Критерий Вальда, сделайте вывод по данному предположению.\n",
    "\n",
    "## Двусторонняя альтернатива\n",
    "$X_1, ... X_n$ - выборка из распределения $Exp(\\theta)$.  \n",
    "Проверьте гипотезу $\\mathsf{H}_0\\colon \\theta = 2$ vs. $\\mathsf{H}_1\\colon \\theta \\neq 2$"
   ]
  },
  {
   "cell_type": "markdown",
   "id": "8c7b51b5",
   "metadata": {},
   "source": [
    "Из лекции вы узнали про критерий Вальда.\n",
    "Для случая двусторонней альтернативы $\\mathsf{H}_1\\colon \\theta \\neq \\theta_0$ критерий имел следующий вид:\n",
    "$$\\large{S = \\left\\{ \\left|\\sqrt{n} \\frac{\\hat{\\theta} - \\theta_0}{\\hat{\\sigma}} \\right| > z_{1 - \\frac{\\alpha}{2}} \\right\\}}$$\n",
    "\n",
    "где $\\hat{\\theta}$ &mdash; асимптотически нормальная оценка $\\theta$ с асимптотической дисперсией $\\sigma^2(\\theta)$, \n",
    "$\\hat{\\sigma}$ &mdash; состоятельная оценка $\\sigma(\\theta)$.  \n",
    "\n",
    "Эквивалентный асимптотичсекий доверительный интервал для параметра $\\theta$ уровня доверия $1-\\alpha$\n",
    "$$C = \\left( \\hat{\\theta} - \\frac{z_{1-\\alpha/2} \\hat{\\sigma}}{\\sqrt{n}}, \\hat{\\theta} + \\frac{z_{1-\\alpha/2} \\hat{\\sigma}}{\\sqrt{n}}\\right)$$\n",
    "\n",
    "На первой лекции вы получали, что $\\frac{1}{\\overline{X}}$ &mdash; АНО для параметра $\\theta$ c асимптотической дисперсией $\\theta^2$\n",
    "\n",
    "**Выпишите состоятельную оценку дисперсии и статистику критерия Вальда**\n"
   ]
  },
  {
   "cell_type": "markdown",
   "id": "2c159233",
   "metadata": {},
   "source": [
    "**Ответ:**  \n",
    "\n",
    "Статистика Вальде: $\\sqrt{n} \\frac{\\hat{\\theta} - \\theta_0}{\\hat{\\sigma}}$\n",
    "\n",
    "Состоятельная оценка дисперсии: $\\sqrt{\\frac{1}{X^2}}$"
   ]
  },
  {
   "cell_type": "markdown",
   "id": "2bc773b6",
   "metadata": {},
   "source": [
    "Первым шагом необходимо выставить уровень значимости, поставим $\\alpha = 0.05$"
   ]
  },
  {
   "cell_type": "code",
   "execution_count": 105,
   "id": "be5cf61a",
   "metadata": {},
   "outputs": [],
   "source": [
    "alpha = 0.05\n",
    "theta = 2 # тета из основной гипотезы\n",
    "n = len(sample)"
   ]
  },
  {
   "cell_type": "markdown",
   "id": "70d59930",
   "metadata": {},
   "source": [
    "Посчитаем квантиль (критическое значение)"
   ]
  },
  {
   "cell_type": "code",
   "execution_count": 108,
   "id": "79975154",
   "metadata": {},
   "outputs": [
    {
     "data": {
      "text/plain": [
       "1.959963984540054"
      ]
     },
     "execution_count": 108,
     "metadata": {},
     "output_type": "execute_result"
    }
   ],
   "source": [
    "z = sps.norm.ppf(1 - alpha/2)\n",
    "z"
   ]
  },
  {
   "cell_type": "markdown",
   "id": "8b7347e7",
   "metadata": {},
   "source": [
    "Посчитайте статистику, которую будете сравнивать с критическим значением. Выведите значение полученной статистики."
   ]
  },
  {
   "cell_type": "code",
   "execution_count": 117,
   "id": "e9151269",
   "metadata": {},
   "outputs": [
    {
     "data": {
      "text/plain": [
       "3.2704505437191247"
      ]
     },
     "execution_count": 117,
     "metadata": {},
     "output_type": "execute_result"
    }
   ],
   "source": [
    "statistic = np.sqrt(n)*((1/np.mean(sample) - theta)/(np.sqrt(1/(np.mean(sample))**2)))\n",
    "statistic"
   ]
  },
  {
   "cell_type": "markdown",
   "id": "053913f7",
   "metadata": {},
   "source": [
    "Сравним модуль статистики с критическим значением"
   ]
  },
  {
   "cell_type": "code",
   "execution_count": 120,
   "id": "abe37363",
   "metadata": {},
   "outputs": [
    {
     "data": {
      "text/plain": [
       "True"
      ]
     },
     "execution_count": 120,
     "metadata": {},
     "output_type": "execute_result"
    }
   ],
   "source": [
    "np.absolute(statistic) > z"
   ]
  },
  {
   "cell_type": "markdown",
   "id": "5b1c2f50",
   "metadata": {},
   "source": [
    "**Какой вывод можно сделать?**"
   ]
  },
  {
   "cell_type": "markdown",
   "id": "4818ef91",
   "metadata": {},
   "source": [
    "**Вывод:** Критерий выполняется, значит мы отвергаем $H_0$"
   ]
  },
  {
   "cell_type": "markdown",
   "id": "5ee180af",
   "metadata": {},
   "source": [
    "Посчитайте доверительный интервал"
   ]
  },
  {
   "cell_type": "code",
   "execution_count": 127,
   "id": "72dda5b6",
   "metadata": {},
   "outputs": [
    {
     "name": "stdout",
     "output_type": "stream",
     "text": [
      "3.187693843343649 6.740324187101983\n"
     ]
    }
   ],
   "source": [
    "print (1/np.mean(sample) - z*(np.sqrt(1/(np.mean(sample))**2))/np.sqrt(n), 1/np.mean(sample) + z*(np.sqrt(1/(np.mean(sample))**2))/np.sqrt(n))"
   ]
  },
  {
   "cell_type": "markdown",
   "id": "74da1af1",
   "metadata": {},
   "source": [
    "**Какой вывод можно сделать?**"
   ]
  },
  {
   "cell_type": "markdown",
   "id": "7c3aa8c2",
   "metadata": {},
   "source": [
    "**Вывод:** Получаем тот же самый результат - $H_0$ отвергается, так как 2 не попадает в этот интервал."
   ]
  },
  {
   "cell_type": "markdown",
   "id": "19db4215",
   "metadata": {},
   "source": [
    "На лекции вы узнали про p-value &mdash; это вероятность получить при справедливости $H_0$ такое значение статистики $t = T(x)$ или еще более экстремальное, то есть в случае двустороннего критерия\n",
    "$$p(x) = \\mathsf{P}_0(T(X) \\geq|t|) + \\mathsf{P}_0(T(X) \\leq -|t|)$$\n",
    "Посчитайте p-value. Для этого можно использовать функции из библиотеки `scipy.stats`."
   ]
  },
  {
   "cell_type": "code",
   "execution_count": 132,
   "id": "3c1d41a6",
   "metadata": {},
   "outputs": [
    {
     "data": {
      "text/plain": [
       "0.0010737631605120244"
      ]
     },
     "execution_count": 132,
     "metadata": {},
     "output_type": "execute_result"
    }
   ],
   "source": [
    "sps.norm.cdf(-statistic) + sps.norm.sf(statistic)"
   ]
  },
  {
   "cell_type": "markdown",
   "id": "7516f137",
   "metadata": {},
   "source": [
    "Оформите подсчет статистики и  p-value в виде одной функции."
   ]
  },
  {
   "cell_type": "code",
   "execution_count": 159,
   "id": "f5377845",
   "metadata": {},
   "outputs": [],
   "source": [
    "def wald_test_two_sided(sample, theta, estimation_theta, estimation_sigma):\n",
    "    \"\"\"\n",
    "    param sample: реализация выборки\n",
    "    param theta: истинное значение параметра\n",
    "    param estimation_theta: оценка параметра\n",
    "    param estimation_sigma: оценка асимптотической дисперсии оценки estimation_sigma\n",
    "\n",
    "    return statistic\n",
    "    return p_value\n",
    "    return conf_int - доверительный интервал\n",
    "    \"\"\"\n",
    "    n = len(sample)\n",
    "    statistic = np.sqrt(n)*((1/np.mean(sample) - theta)/(np.sqrt(1/(np.mean(sample))**2)))\n",
    "    p_value = sps.norm.cdf(-statistic) + sps.norm.sf(statistic)\n",
    "    conf_int = [1/np.mean(sample) - z*(np.sqrt(1/(np.mean(sample))**2))/np.sqrt(n), 1/np.mean(sample) + z*(np.sqrt(1/(np.mean(sample))**2))/np.sqrt(n)]\n",
    "    return statistic, p_value, conf_int"
   ]
  },
  {
   "cell_type": "markdown",
   "id": "6b69bc02",
   "metadata": {},
   "source": [
    "Теперь посмотрим на выборку меньших размеров"
   ]
  },
  {
   "cell_type": "code",
   "execution_count": 162,
   "id": "edab7886",
   "metadata": {},
   "outputs": [],
   "source": [
    "sample_cut = [0.11731702, 0.75253036, 0.32918642, 0.22823564, 0.04240622,\n",
    "        0.04239907, 0.01495969, 0.50280772, 0.22977054, 0.30781252]"
   ]
  },
  {
   "cell_type": "markdown",
   "id": "a1e23fef",
   "metadata": {},
   "source": [
    "Выведите статистику, p-value и доверительный интервал. Какой вывод можно сделать из полученных значений?"
   ]
  },
  {
   "cell_type": "code",
   "execution_count": 170,
   "id": "62b0c429",
   "metadata": {},
   "outputs": [
    {
     "name": "stdout",
     "output_type": "stream",
     "text": [
      "Статистика 1.5384953893457125\n",
      "p-value 0.12392753500064685\n",
      "Доверительный интервал [1.480880407715241, 6.309025214462183]\n"
     ]
    }
   ],
   "source": [
    "results = (wald_test_two_sided(sample_cut, theta = 2, estimation_theta = 1/np.mean(sample), estimation_sigma = (np.sqrt(1/(np.mean(sample))**2))))\n",
    "print('Статистика '+ str(results[0]))\n",
    "print('p-value '+ str(results[1]))\n",
    "print('Доверительный интервал '+ str(results[2]))"
   ]
  },
  {
   "cell_type": "markdown",
   "id": "b3d3d8f5",
   "metadata": {},
   "source": [
    "**Вывод:** Здесь получаем другой результат - $H_0$ не отвергается во всех трёх способах проверки (через статистику, p-value, доверительный интервал)\n"
   ]
  },
  {
   "cell_type": "code",
   "execution_count": null,
   "id": "082845c7-42dd-4a9a-a033-88e008e0acca",
   "metadata": {},
   "outputs": [],
   "source": []
  }
 ],
 "metadata": {
  "kernelspec": {
   "display_name": "Python 3 (ipykernel)",
   "language": "python",
   "name": "python3"
  },
  "language_info": {
   "codemirror_mode": {
    "name": "ipython",
    "version": 3
   },
   "file_extension": ".py",
   "mimetype": "text/x-python",
   "name": "python",
   "nbconvert_exporter": "python",
   "pygments_lexer": "ipython3",
   "version": "3.12.7"
  }
 },
 "nbformat": 4,
 "nbformat_minor": 5
}
